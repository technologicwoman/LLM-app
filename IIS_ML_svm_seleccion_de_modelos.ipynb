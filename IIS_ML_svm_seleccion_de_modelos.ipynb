{
  "nbformat": 4,
  "nbformat_minor": 0,
  "metadata": {
    "colab": {
      "provenance": [],
      "collapsed_sections": [
        "bxQp0Wfx4mbF"
      ],
      "include_colab_link": true
    },
    "kernelspec": {
      "display_name": "Python 3",
      "language": "python",
      "name": "python3"
    }
  },
  "cells": [
    {
      "cell_type": "markdown",
      "metadata": {
        "id": "view-in-github",
        "colab_type": "text"
      },
      "source": [
        "<a href=\"https://colab.research.google.com/github/technologicwoman/LLM-app/blob/main/IIS_ML_svm_seleccion_de_modelos.ipynb\" target=\"_parent\"><img src=\"https://colab.research.google.com/assets/colab-badge.svg\" alt=\"Open In Colab\"/></a>"
      ]
    },
    {
      "cell_type": "markdown",
      "metadata": {
        "id": "wL-yAA-M4mWc"
      },
      "source": [
        "# Introducción  a los Sistemas Inteligentes\n",
        "# 2018-2\n",
        "# Máquinas de vectores de soporte y selección de modelos\n",
        "\n",
        "Definimos primero unas librerías y funciones que vamos a usar a durante la sesión:"
      ]
    },
    {
      "cell_type": "code",
      "metadata": {
        "id": "s2e16aec4mWf"
      },
      "source": [
        "%matplotlib inline\n",
        "import matplotlib.pyplot as plt\n",
        "import numpy as np\n",
        "import pylab as pl\n",
        "from sklearn.datasets import make_circles\n",
        "from matplotlib.colors import Normalize\n",
        "\n",
        "\n",
        "# Función para visualizar un conjunto de datos en 2D\n",
        "def plot_data(X, y):\n",
        "    y_unique = np.unique(y)\n",
        "    colors = pl.cm.rainbow(np.linspace(0.0, 1.0, y_unique.size))\n",
        "    for this_y, color in zip(y_unique, colors):\n",
        "        this_X = X[y == this_y]\n",
        "        pl.scatter(this_X[:, 0], this_X[:, 1],  c=color,\n",
        "                    alpha=0.5, edgecolor='k',\n",
        "                    label=\"Class %s\" % this_y)\n",
        "    pl.legend(loc=\"best\")\n",
        "    pl.title(\"Data\")\n",
        "\n",
        "# Función para visualizar de la superficie de decisión de un clasificador\n",
        "def plot_decision_region(X, pred_fun):\n",
        "    min_x = np.min(X[:, 0])\n",
        "    max_x = np.max(X[:, 0])\n",
        "    min_y = np.min(X[:, 1])\n",
        "    max_y = np.max(X[:, 1])\n",
        "    min_x = min_x - (max_x - min_x) * 0.05\n",
        "    max_x = max_x + (max_x - min_x) * 0.05\n",
        "    min_y = min_y - (max_y - min_y) * 0.05\n",
        "    max_y = max_y + (max_y - min_y) * 0.05\n",
        "    x_vals = np.linspace(min_x, max_x, 100)\n",
        "    y_vals = np.linspace(min_y, max_y, 100)\n",
        "    XX, YY = np.meshgrid(x_vals, y_vals)\n",
        "    grid_r, grid_c = XX.shape\n",
        "    ZZ = np.zeros((grid_r, grid_c))\n",
        "    for i in range(grid_r):\n",
        "        for j in range(grid_c):\n",
        "            ZZ[i, j] = pred_fun(XX[i, j], YY[i, j])\n",
        "    pl.contourf(XX, YY, ZZ, 100, cmap = pl.cm.coolwarm, vmin= -1, vmax=2)\n",
        "    pl.colorbar()\n",
        "    pl.xlabel(\"x\")\n",
        "    pl.ylabel(\"y\")\n",
        "\n",
        "class MidpointNormalize(Normalize):\n",
        "\n",
        "    def __init__(self, vmin=None, vmax=None, midpoint=None, clip=False):\n",
        "        self.midpoint = midpoint\n",
        "        Normalize.__init__(self, vmin, vmax, clip)\n",
        "\n",
        "    def __call__(self, value, clip=None):\n",
        "        x, y = [self.vmin, self.midpoint, self.vmax], [0, 0.5, 1]\n",
        "        return np.ma.masked_array(np.interp(value, x, y))\n",
        "\n",
        "def gen_pred_fun(clf):\n",
        "    def pred_fun(x1, x2):\n",
        "        x = np.array([[x1, x2]])\n",
        "        return clf.predict(x)[0]\n",
        "    return pred_fun\n",
        "\n",
        "def plot_labels(n_folds, n_classes, list_labels):\n",
        "    ind = np.arange(n_folds)\n",
        "    width = 0.15\n",
        "\n",
        "    countings = []\n",
        "    for labels in list_labels:\n",
        "        labels = np.array(labels)\n",
        "        countings.append([np.count_nonzero(labels == x) for x in range(n_classes)])\n",
        "\n",
        "    class_bars = []\n",
        "    for cls in range(n_classes):\n",
        "        class_bars.append([l[cls] for l in countings])\n",
        "\n",
        "    fig, ax = pl.subplots()\n",
        "    i = 0\n",
        "    for class_bar in class_bars:\n",
        "        ax.bar(ind + width*i, class_bar, width, label='Clase '+str(i))\n",
        "        i += 1\n",
        "\n",
        "    ax.set_xticks(ind + 2*width / 3)\n",
        "    ax.set_xticklabels(['Pliegue {}'.format(k) for k in range(n_folds)])\n",
        "    pl.legend(loc=\"best\")\n",
        "    pl.title(\"Etiquetas\")"
      ],
      "execution_count": null,
      "outputs": []
    },
    {
      "cell_type": "markdown",
      "metadata": {
        "id": "o4Q1mqlV4mWp"
      },
      "source": [
        "# Máquinas de vectores de soporte"
      ]
    },
    {
      "cell_type": "markdown",
      "metadata": {
        "id": "H-WoP70a4mWt"
      },
      "source": [
        "Las máquinas de vectores de soporte son un modelo de aprendizaje supervisado en el cual los ejemplos son representados en un nuevo espacio, de tal forma que aquellos ejemplos de diferentes categorías sea posible, en principio, separarlos linealmente. Considere el siguiente ejemplo de un conjunto de datos."
      ]
    },
    {
      "cell_type": "code",
      "metadata": {
        "id": "PJsr26kJ4mWw"
      },
      "source": [
        "from sklearn.datasets import make_circles, make_moons\n",
        "\n",
        "np.random.seed(0)\n",
        "\n",
        "X, y = make_circles(n_samples=1000, factor=.3, noise=.05)"
      ],
      "execution_count": null,
      "outputs": []
    },
    {
      "cell_type": "markdown",
      "metadata": {
        "id": "VOZ22ssG4mW5"
      },
      "source": [
        "Se trata de un conjunto de datos que no es linealmente separable"
      ]
    },
    {
      "cell_type": "code",
      "metadata": {
        "id": "uWJMsccZ4mW8",
        "outputId": "cd71d286-e96e-4ce1-88ea-f79ef036c378",
        "colab": {
          "base_uri": "https://localhost:8080/",
          "height": 445
        }
      },
      "source": [
        "pl.figure(figsize = (10, 6))\n",
        "plot_data(X, y)"
      ],
      "execution_count": null,
      "outputs": [
        {
          "output_type": "stream",
          "text": [
            "'c' argument looks like a single numeric RGB or RGBA sequence, which should be avoided as value-mapping will have precedence in case its length matches with 'x' & 'y'.  Please use a 2-D array with a single row if you really want to specify the same RGB or RGBA value for all points.\n",
            "'c' argument looks like a single numeric RGB or RGBA sequence, which should be avoided as value-mapping will have precedence in case its length matches with 'x' & 'y'.  Please use a 2-D array with a single row if you really want to specify the same RGB or RGBA value for all points.\n"
          ],
          "name": "stderr"
        },
        {
          "output_type": "display_data",
          "data": {
            "image/png": "[encoded data removed]",
            "text/plain": [
              "<Figure size 720x432 with 1 Axes>"
            ]
          },
          "metadata": {
            "tags": []
          }
        }
      ]
    },
    {
      "cell_type": "markdown",
      "metadata": {
        "id": "UJWd3J764mXN"
      },
      "source": [
        "**¿Se pueden separar las clases con una función lineal?**"
      ]
    },
    {
      "cell_type": "markdown",
      "metadata": {
        "id": "AVNuTUoC4mXO"
      },
      "source": [
        "SVM  crea, implícitamente, un espacio de representación de mayor dimensionalidad en el cual podemos separar de forma clara nuestros datos. Por ejemplo:\n",
        "\n",
        "<img src=\"https://drive.google.com/uc?export=view&id=1NuYvzWfEb_nOZ9pWbsycdQWiHhad5_BI\">"
      ]
    },
    {
      "cell_type": "markdown",
      "metadata": {
        "id": "y96W22zGoFhV"
      },
      "source": [
        "Para el ejemplo anterior, podemos llevar los datos a un nuevo espacio donde las características corresponden al cuadrado de las características originales:\n",
        "\n",
        "$$\\begin{equation}\n",
        "\\begin{split}\n",
        "\\phi:& \\mathbb{R}^2  & \\longrightarrow & \\mathbb{R}^2 \\\\\n",
        "  & (x,y) & \\longmapsto & (x^2,y^2)\n",
        "\\end{split}\n",
        "\\end{equation}$$"
      ]
    },
    {
      "cell_type": "code",
      "metadata": {
        "id": "KrnFHcC2noU8",
        "outputId": "5efa954a-85bf-4a7c-9ec8-f078f1df5a9c",
        "colab": {
          "base_uri": "https://localhost:8080/",
          "height": 409
        }
      },
      "source": [
        "X_square = X * X\n",
        "pl.figure(figsize = (10, 6))\n",
        "plot_data(X_square, y)"
      ],
      "execution_count": null,
      "outputs": [
        {
          "output_type": "display_data",
          "data": {
            "image/png": "[encoded data removed]",
            "text/plain": [
              "<matplotlib.figure.Figure at 0x7f2934474710>"
            ]
          },
          "metadata": {
            "tags": []
          }
        }
      ]
    },
    {
      "cell_type": "markdown",
      "metadata": {
        "id": "i5Nf--3GrDi9"
      },
      "source": [
        "En este nuevo espacio de representación, es posible separar los datos con un discriminante lineal."
      ]
    },
    {
      "cell_type": "markdown",
      "metadata": {
        "id": "N0j9YLhU4mXR"
      },
      "source": [
        "## Kernel trick\n",
        "\n",
        "SVM usa una función conocida como kernel. Intuitivamente, esta función $k$ define qué tan parecidas son dos instancias del conjunto de datos. Formalmente, la función $k$ calcula el producto punto en el espacio de caracterísiticas donde se representarán los datos. Dependiendo del kernel, este espacio de características es de mayor dimensionalidad, y facilita la  definición de un \"*hiperplano*\" que separe los ejemplos de ambas características.\n",
        "\n",
        "Existen varias opciones para las funciones de kernel. Primero vamos a cargar dos conjuntos de datos sobre los cuales vamos a comparar la superficie de decisión generada por cada tipo de kernel."
      ]
    },
    {
      "cell_type": "code",
      "metadata": {
        "id": "ii0cvDyH4mXV"
      },
      "source": [
        "from sklearn.datasets import load_iris\n",
        "from sklearn.model_selection import train_test_split\n",
        "\n",
        "iris = load_iris()\n",
        "\n",
        "X_iris = iris.data[:,[0, 2]]\n",
        "y_iris = iris.target\n",
        "X_train_iris, X_test_iris, y_train_iris, y_test_iris = train_test_split(X_iris,\n",
        "                                                                        y_iris,\n",
        "                                                                        test_size=0.3,\n",
        "                                                                        random_state=1)\n",
        "\n",
        "X_moons, y_moons = make_moons(n_samples=600, noise=0.3, random_state=0)\n",
        "X_train_moons, X_test_moons, y_train_moons, y_test_moons = train_test_split(X_moons,\n",
        "                                                                            y_moons,\n",
        "                                                                            test_size=0.3,\n",
        "                                                                            random_state=1)"
      ],
      "execution_count": null,
      "outputs": []
    },
    {
      "cell_type": "code",
      "metadata": {
        "id": "x72Fwx5z4mXc",
        "outputId": "ab8157b5-3d03-41eb-86f3-efab0d2662db",
        "colab": {
          "base_uri": "https://localhost:8080/",
          "height": 463
        }
      },
      "source": [
        "pl.figure(figsize = (10, 6))\n",
        "plot_data(X_iris, y_iris)"
      ],
      "execution_count": null,
      "outputs": [
        {
          "output_type": "stream",
          "text": [
            "'c' argument looks like a single numeric RGB or RGBA sequence, which should be avoided as value-mapping will have precedence in case its length matches with 'x' & 'y'.  Please use a 2-D array with a single row if you really want to specify the same RGB or RGBA value for all points.\n",
            "'c' argument looks like a single numeric RGB or RGBA sequence, which should be avoided as value-mapping will have precedence in case its length matches with 'x' & 'y'.  Please use a 2-D array with a single row if you really want to specify the same RGB or RGBA value for all points.\n",
            "'c' argument looks like a single numeric RGB or RGBA sequence, which should be avoided as value-mapping will have precedence in case its length matches with 'x' & 'y'.  Please use a 2-D array with a single row if you really want to specify the same RGB or RGBA value for all points.\n"
          ],
          "name": "stderr"
        },
        {
          "output_type": "display_data",
          "data": {
            "image/png": "[encoded data removed]",
            "text/plain": [
              "<Figure size 720x432 with 1 Axes>"
            ]
          },
          "metadata": {
            "tags": []
          }
        }
      ]
    },
    {
      "cell_type": "code",
      "metadata": {
        "id": "cT_g94DE4mXl",
        "outputId": "008c6e03-8b0c-4df0-ab80-d5e5a42044fd",
        "colab": {
          "base_uri": "https://localhost:8080/",
          "height": 445
        }
      },
      "source": [
        "pl.figure(figsize = (10, 6))\n",
        "plot_data(X_moons, y_moons)"
      ],
      "execution_count": null,
      "outputs": [
        {
          "output_type": "stream",
          "text": [
            "'c' argument looks like a single numeric RGB or RGBA sequence, which should be avoided as value-mapping will have precedence in case its length matches with 'x' & 'y'.  Please use a 2-D array with a single row if you really want to specify the same RGB or RGBA value for all points.\n",
            "'c' argument looks like a single numeric RGB or RGBA sequence, which should be avoided as value-mapping will have precedence in case its length matches with 'x' & 'y'.  Please use a 2-D array with a single row if you really want to specify the same RGB or RGBA value for all points.\n"
          ],
          "name": "stderr"
        },
        {
          "output_type": "display_data",
          "data": {
            "image/png": "[encoded data removed]",
            "text/plain": [
              "<Figure size 720x432 with 1 Axes>"
            ]
          },
          "metadata": {
            "tags": []
          }
        }
      ]
    },
    {
      "cell_type": "markdown",
      "metadata": {
        "id": "DsXKMf-Y4mXw"
      },
      "source": [
        "## Kernel Lineal\n",
        "\n",
        "La función $k$ está definida como:\n",
        "$$\n",
        "k(x,y) = \\langle x, y\\rangle = xy'\n",
        "$$\n",
        "\n",
        "Esta implementación puede ser consultada a través de `sklearn.svm.LinearSVC`."
      ]
    },
    {
      "cell_type": "code",
      "metadata": {
        "id": "oNwNoxWQ4mXz",
        "colab": {
          "base_uri": "https://localhost:8080/",
          "height": 72
        },
        "outputId": "52336e4d-c94e-4b24-f01c-9d3c8af633a4"
      },
      "source": [
        "from sklearn.svm import LinearSVC\n",
        "\n",
        "linear_iris = LinearSVC()\n",
        "linear_moons = LinearSVC()\n",
        "\n",
        "linear_iris.fit(X_train_iris, y_train_iris)\n",
        "linear_moons.fit(X_train_moons, y_train_moons);"
      ],
      "execution_count": null,
      "outputs": [
        {
          "output_type": "stream",
          "text": [
            "/usr/local/lib/python3.6/dist-packages/sklearn/svm/base.py:931: ConvergenceWarning: Liblinear failed to converge, increase the number of iterations.\n",
            "  \"the number of iterations.\", ConvergenceWarning)\n"
          ],
          "name": "stderr"
        }
      ]
    },
    {
      "cell_type": "markdown",
      "metadata": {
        "id": "3tevZ6Yw4mX9"
      },
      "source": [
        "Ahora visualizamos los datos de ambos:"
      ]
    },
    {
      "cell_type": "code",
      "metadata": {
        "id": "GBoQbimq4mYA",
        "outputId": "d42f0e6c-61ce-41b7-85c6-792a46249729",
        "colab": {
          "base_uri": "https://localhost:8080/",
          "height": 477
        }
      },
      "source": [
        "pl.figure(figsize = (10, 6))\n",
        "plot_decision_region(X_test_iris, gen_pred_fun(linear_iris))\n",
        "plot_data(X_test_iris, y_test_iris)"
      ],
      "execution_count": null,
      "outputs": [
        {
          "output_type": "stream",
          "text": [
            "'c' argument looks like a single numeric RGB or RGBA sequence, which should be avoided as value-mapping will have precedence in case its length matches with 'x' & 'y'.  Please use a 2-D array with a single row if you really want to specify the same RGB or RGBA value for all points.\n",
            "'c' argument looks like a single numeric RGB or RGBA sequence, which should be avoided as value-mapping will have precedence in case its length matches with 'x' & 'y'.  Please use a 2-D array with a single row if you really want to specify the same RGB or RGBA value for all points.\n",
            "'c' argument looks like a single numeric RGB or RGBA sequence, which should be avoided as value-mapping will have precedence in case its length matches with 'x' & 'y'.  Please use a 2-D array with a single row if you really want to specify the same RGB or RGBA value for all points.\n"
          ],
          "name": "stderr"
        },
        {
          "output_type": "display_data",
          "data": {
            "image/png": "[encoded data removed]",
            "text/plain": [
              "<Figure size 720x432 with 2 Axes>"
            ]
          },
          "metadata": {
            "tags": []
          }
        }
      ]
    },
    {
      "cell_type": "markdown",
      "metadata": {
        "id": "pk_E8pCo4mYJ"
      },
      "source": [
        "El error en el conjunto de entrenamiento y prueba es el siguiente:"
      ]
    },
    {
      "cell_type": "code",
      "metadata": {
        "id": "XoOvluwv4mYL",
        "outputId": "b26105c8-89f6-4567-c6ff-c20dead2929f",
        "colab": {
          "base_uri": "https://localhost:8080/",
          "height": 52
        }
      },
      "source": [
        "print(\"Error en entrenamiento: {}\".format(1-linear_iris.score(X_train_iris, y_train_iris)))\n",
        "print(\"Error en prueba: {}\".format(1-linear_iris.score(X_test_iris, y_test_iris)))"
      ],
      "execution_count": null,
      "outputs": [
        {
          "output_type": "stream",
          "text": [
            "Error en entrenamiento: 0.04761904761904767\n",
            "Error en prueba: 0.11111111111111116\n"
          ],
          "name": "stdout"
        }
      ]
    },
    {
      "cell_type": "markdown",
      "metadata": {
        "id": "E5JpH4A94mYV"
      },
      "source": [
        "Ahora hacemos los mismo para el conjunto de datos generado artificialmente:"
      ]
    },
    {
      "cell_type": "code",
      "metadata": {
        "id": "19r59ffV4mYX",
        "outputId": "d2e8f6d7-ab13-42cd-84c9-9e221773ce41",
        "colab": {
          "base_uri": "https://localhost:8080/",
          "height": 459
        }
      },
      "source": [
        "pl.figure(figsize = (10, 6))\n",
        "plot_decision_region(X_moons, gen_pred_fun(linear_moons))\n",
        "plot_data(X_moons, y_moons)"
      ],
      "execution_count": null,
      "outputs": [
        {
          "output_type": "stream",
          "text": [
            "'c' argument looks like a single numeric RGB or RGBA sequence, which should be avoided as value-mapping will have precedence in case its length matches with 'x' & 'y'.  Please use a 2-D array with a single row if you really want to specify the same RGB or RGBA value for all points.\n",
            "'c' argument looks like a single numeric RGB or RGBA sequence, which should be avoided as value-mapping will have precedence in case its length matches with 'x' & 'y'.  Please use a 2-D array with a single row if you really want to specify the same RGB or RGBA value for all points.\n"
          ],
          "name": "stderr"
        },
        {
          "output_type": "display_data",
          "data": {
            "image/png": "[encoded data removed]",
            "text/plain": [
              "<Figure size 720x432 with 2 Axes>"
            ]
          },
          "metadata": {
            "tags": []
          }
        }
      ]
    },
    {
      "cell_type": "code",
      "metadata": {
        "id": "Lj2USego4mYg",
        "outputId": "fea8ef1e-c78f-4807-e24e-00111a9facb4",
        "colab": {
          "base_uri": "https://localhost:8080/",
          "height": 52
        }
      },
      "source": [
        "print(\"Error en entrenamiento: {}\".format(1-linear_moons.score(X_train_moons, y_train_moons)))\n",
        "print(\"Error en prueba: {}\".format(1-linear_moons.score(X_test_moons, y_test_moons)))"
      ],
      "execution_count": null,
      "outputs": [
        {
          "output_type": "stream",
          "text": [
            "Error en entrenamiento: 0.12380952380952381\n",
            "Error en prueba: 0.15000000000000002\n"
          ],
          "name": "stdout"
        }
      ]
    },
    {
      "cell_type": "markdown",
      "metadata": {
        "id": "aewYKK0_4mYo"
      },
      "source": [
        "## Kernel polinomial\n",
        "\n",
        "La función $k$ está definida como:\n",
        "$$\n",
        "k(x,y) = (\\gamma \\langle x, y\\rangle + r)^d\n",
        "$$\n",
        "dónde $d$ corresponde al grado del polinomio. De manera similar podemos acceder a la implementación de este kernel a través de `sklearn.svm.SVC`. Definimos primero un kernel polinomial de grado 2."
      ]
    },
    {
      "cell_type": "code",
      "metadata": {
        "id": "KIkDxd5T4mY0",
        "colab": {
          "base_uri": "https://localhost:8080/",
          "height": 72
        },
        "outputId": "63afcf62-58b9-4210-9f4d-7d10782ad1d6"
      },
      "source": [
        "from sklearn.svm import SVC\n",
        "\n",
        "poly_svm = SVC(kernel='poly', degree=2, coef0=1)\n",
        "poly_svm.fit(X_train_moons, y_train_moons);"
      ],
      "execution_count": null,
      "outputs": [
        {
          "output_type": "stream",
          "text": [
            "/usr/local/lib/python3.6/dist-packages/sklearn/svm/base.py:196: FutureWarning: The default value of gamma will change from 'auto' to 'scale' in version 0.22 to account better for unscaled features. Set gamma explicitly to 'auto' or 'scale' to avoid this warning.\n",
            "  \"avoid this warning.\", FutureWarning)\n"
          ],
          "name": "stderr"
        }
      ]
    },
    {
      "cell_type": "code",
      "metadata": {
        "id": "zaQ6rg4w4mZC",
        "outputId": "2d701882-5e8b-4f53-ec4a-5db140c426c4",
        "colab": {
          "base_uri": "https://localhost:8080/",
          "height": 459
        }
      },
      "source": [
        "pl.figure(figsize = (10, 6))\n",
        "plot_decision_region(X_test_moons, gen_pred_fun(poly_svm))\n",
        "plot_data(X_test_moons, y_test_moons)"
      ],
      "execution_count": null,
      "outputs": [
        {
          "output_type": "stream",
          "text": [
            "'c' argument looks like a single numeric RGB or RGBA sequence, which should be avoided as value-mapping will have precedence in case its length matches with 'x' & 'y'.  Please use a 2-D array with a single row if you really want to specify the same RGB or RGBA value for all points.\n",
            "'c' argument looks like a single numeric RGB or RGBA sequence, which should be avoided as value-mapping will have precedence in case its length matches with 'x' & 'y'.  Please use a 2-D array with a single row if you really want to specify the same RGB or RGBA value for all points.\n"
          ],
          "name": "stderr"
        },
        {
          "output_type": "display_data",
          "data": {
            "image/png": "[encoded data removed]",
            "text/plain": [
              "<Figure size 720x432 with 2 Axes>"
            ]
          },
          "metadata": {
            "tags": []
          }
        }
      ]
    },
    {
      "cell_type": "markdown",
      "metadata": {
        "id": "4seyo1xk4mZX"
      },
      "source": [
        "Aunque si lo intentamos con un polinomio de grado $3$:"
      ]
    },
    {
      "cell_type": "code",
      "metadata": {
        "id": "abizCYp34mZZ",
        "outputId": "1883e790-1f80-497d-9b56-e747f7fddd04",
        "colab": {
          "base_uri": "https://localhost:8080/",
          "height": 494
        }
      },
      "source": [
        "poly_svm = SVC(kernel='poly', degree=3, coef0=1)\n",
        "poly_svm.fit(X_train_moons, y_train_moons)\n",
        "\n",
        "pl.figure(figsize = (10, 6))\n",
        "plot_decision_region(X_test_moons, gen_pred_fun(poly_svm))\n",
        "plot_data(X_test_moons, y_test_moons)"
      ],
      "execution_count": null,
      "outputs": [
        {
          "output_type": "stream",
          "text": [
            "/usr/local/lib/python3.6/dist-packages/sklearn/svm/base.py:196: FutureWarning: The default value of gamma will change from 'auto' to 'scale' in version 0.22 to account better for unscaled features. Set gamma explicitly to 'auto' or 'scale' to avoid this warning.\n",
            "  \"avoid this warning.\", FutureWarning)\n",
            "'c' argument looks like a single numeric RGB or RGBA sequence, which should be avoided as value-mapping will have precedence in case its length matches with 'x' & 'y'.  Please use a 2-D array with a single row if you really want to specify the same RGB or RGBA value for all points.\n",
            "'c' argument looks like a single numeric RGB or RGBA sequence, which should be avoided as value-mapping will have precedence in case its length matches with 'x' & 'y'.  Please use a 2-D array with a single row if you really want to specify the same RGB or RGBA value for all points.\n"
          ],
          "name": "stderr"
        },
        {
          "output_type": "display_data",
          "data": {
            "image/png": "[encoded data removed]",
            "text/plain": [
              "<Figure size 720x432 with 2 Axes>"
            ]
          },
          "metadata": {
            "tags": []
          }
        }
      ]
    },
    {
      "cell_type": "markdown",
      "metadata": {
        "id": "9j2ZmW_y4mZn"
      },
      "source": [
        "Medimos el error en entrenamiento y prueba"
      ]
    },
    {
      "cell_type": "code",
      "metadata": {
        "id": "lr-9PSBx4mZq",
        "outputId": "718cb049-1386-45c0-a913-6500cad9a4c4",
        "colab": {
          "base_uri": "https://localhost:8080/",
          "height": 52
        }
      },
      "source": [
        "print(\"Error en entrenamiento: {}\".format(1-poly_svm.score(X_train_moons, y_train_moons)))\n",
        "print(\"Error en prueba: {}\".format(1-poly_svm.score(X_test_moons, y_test_moons)))"
      ],
      "execution_count": null,
      "outputs": [
        {
          "output_type": "stream",
          "text": [
            "Error en entrenamiento: 0.09523809523809523\n",
            "Error en prueba: 0.12777777777777777\n"
          ],
          "name": "stdout"
        }
      ]
    },
    {
      "cell_type": "markdown",
      "metadata": {
        "id": "o1UsS2h44mZy"
      },
      "source": [
        "Ahora probamos con el conjunto de datos IRIS:"
      ]
    },
    {
      "cell_type": "code",
      "metadata": {
        "id": "jch9K6h74mZ0",
        "outputId": "2e7af7d5-e3c8-4657-9f9d-73dc7dd94eb1",
        "colab": {
          "base_uri": "https://localhost:8080/",
          "height": 511
        }
      },
      "source": [
        "poly_svm = SVC(kernel='poly', degree=3)\n",
        "poly_svm.fit(X_train_iris, y_train_iris)\n",
        "\n",
        "pl.figure(figsize = (10, 6))\n",
        "plot_decision_region(X_test_iris, gen_pred_fun(poly_svm))\n",
        "plot_data(X_test_iris, y_test_iris)"
      ],
      "execution_count": null,
      "outputs": [
        {
          "output_type": "stream",
          "text": [
            "/usr/local/lib/python3.6/dist-packages/sklearn/svm/base.py:196: FutureWarning: The default value of gamma will change from 'auto' to 'scale' in version 0.22 to account better for unscaled features. Set gamma explicitly to 'auto' or 'scale' to avoid this warning.\n",
            "  \"avoid this warning.\", FutureWarning)\n",
            "'c' argument looks like a single numeric RGB or RGBA sequence, which should be avoided as value-mapping will have precedence in case its length matches with 'x' & 'y'.  Please use a 2-D array with a single row if you really want to specify the same RGB or RGBA value for all points.\n",
            "'c' argument looks like a single numeric RGB or RGBA sequence, which should be avoided as value-mapping will have precedence in case its length matches with 'x' & 'y'.  Please use a 2-D array with a single row if you really want to specify the same RGB or RGBA value for all points.\n",
            "'c' argument looks like a single numeric RGB or RGBA sequence, which should be avoided as value-mapping will have precedence in case its length matches with 'x' & 'y'.  Please use a 2-D array with a single row if you really want to specify the same RGB or RGBA value for all points.\n"
          ],
          "name": "stderr"
        },
        {
          "output_type": "display_data",
          "data": {
            "image/png": "[encoded data removed]",
            "text/plain": [
              "<Figure size 720x432 with 2 Axes>"
            ]
          },
          "metadata": {
            "tags": []
          }
        }
      ]
    },
    {
      "cell_type": "code",
      "metadata": {
        "id": "hHCvU7C64mZ-",
        "outputId": "0081f176-55f6-444a-f330-9f8969bf2dee",
        "colab": {
          "base_uri": "https://localhost:8080/",
          "height": 52
        }
      },
      "source": [
        "print(\"Error en entrenamiento: {}\".format(1-poly_svm.score(X_train_iris, y_train_iris)))\n",
        "print(\"Error en prueba: {}\".format(1-poly_svm.score(X_test_iris, y_test_iris)))"
      ],
      "execution_count": null,
      "outputs": [
        {
          "output_type": "stream",
          "text": [
            "Error en entrenamiento: 0.03809523809523807\n",
            "Error en prueba: 0.022222222222222254\n"
          ],
          "name": "stdout"
        }
      ]
    },
    {
      "cell_type": "markdown",
      "metadata": {
        "id": "1zsaCnGa4maD"
      },
      "source": [
        "## Kernel Gaussiano\n",
        "\n",
        "\n",
        "$$\n",
        "K(x, x') = \\exp\\left(-\\frac{\\|x-x'\\|^2}{2\\sigma^2}\\right)\n",
        "$$\n",
        "la cual se puede simplificar como\n",
        "$$\n",
        "K(x, x') = \\exp(-\\gamma \\|x-x'\\|^2)\n",
        "$$\n",
        "$$\n",
        "\\gamma \\ = \\frac{1}{2\\sigma^2}\n",
        "$$\n",
        "En la literatura este método tambien se encuentra como kernel usando una función de base radial (**RBF** por sus siglas en ingles). En el siguiente ejemplo probamos con un valor de $\\gamma$ pequeño:"
      ]
    },
    {
      "cell_type": "code",
      "metadata": {
        "id": "kFc0e-HH4maD"
      },
      "source": [
        "rbf_svm = SVC(kernel='rbf', gamma = 0.001)\n",
        "rbf_svm.fit(X_train_moons, y_train_moons);"
      ],
      "execution_count": null,
      "outputs": []
    },
    {
      "cell_type": "code",
      "metadata": {
        "id": "bxGx0He-4maG",
        "outputId": "6e00cb81-b1cb-4e1c-f1b4-122025310936",
        "colab": {
          "base_uri": "https://localhost:8080/",
          "height": 459
        }
      },
      "source": [
        "pl.figure(figsize = (10, 6))\n",
        "plot_decision_region(X_test_moons, gen_pred_fun(rbf_svm))\n",
        "plot_data(X_test_moons, y_test_moons)"
      ],
      "execution_count": null,
      "outputs": [
        {
          "output_type": "stream",
          "text": [
            "'c' argument looks like a single numeric RGB or RGBA sequence, which should be avoided as value-mapping will have precedence in case its length matches with 'x' & 'y'.  Please use a 2-D array with a single row if you really want to specify the same RGB or RGBA value for all points.\n",
            "'c' argument looks like a single numeric RGB or RGBA sequence, which should be avoided as value-mapping will have precedence in case its length matches with 'x' & 'y'.  Please use a 2-D array with a single row if you really want to specify the same RGB or RGBA value for all points.\n"
          ],
          "name": "stderr"
        },
        {
          "output_type": "display_data",
          "data": {
            "image/png": "[encoded data removed]",
            "text/plain": [
              "<Figure size 720x432 with 2 Axes>"
            ]
          },
          "metadata": {
            "tags": []
          }
        }
      ]
    },
    {
      "cell_type": "markdown",
      "metadata": {
        "id": "Jh-WoG4c4maK"
      },
      "source": [
        "Reportamos el error de entrenamiento y prueba:"
      ]
    },
    {
      "cell_type": "code",
      "metadata": {
        "id": "N1a1BQFr4maQ",
        "outputId": "b18be8e5-0660-4025-9225-a3370d7369ef",
        "colab": {
          "base_uri": "https://localhost:8080/",
          "height": 52
        }
      },
      "source": [
        "print(\"Error en entrenamiento: {}\".format(1-rbf_svm.score(X_train_moons, y_train_moons)))\n",
        "print(\"Error en prueba: {}\".format(1-rbf_svm.score(X_test_moons, y_test_moons)))"
      ],
      "execution_count": null,
      "outputs": [
        {
          "output_type": "stream",
          "text": [
            "Error en entrenamiento: 0.19999999999999996\n",
            "Error en prueba: 0.21111111111111114\n"
          ],
          "name": "stdout"
        }
      ]
    },
    {
      "cell_type": "markdown",
      "metadata": {
        "id": "J3He4jvS4maS"
      },
      "source": [
        "Usamos un $\\gamma$ más grande"
      ]
    },
    {
      "cell_type": "code",
      "metadata": {
        "id": "cXV-WVoP4maV",
        "outputId": "01d2f289-4df0-4b5d-d1f2-83b7f422982a",
        "colab": {
          "base_uri": "https://localhost:8080/",
          "height": 459
        }
      },
      "source": [
        "rbf_svm = SVC(kernel='rbf', gamma = 1000)\n",
        "rbf_svm.fit(X_train_moons, y_train_moons)\n",
        "\n",
        "pl.figure(figsize = (10, 6))\n",
        "plot_decision_region(X_test_moons, gen_pred_fun(rbf_svm))\n",
        "plot_data(X_test_moons, y_test_moons)"
      ],
      "execution_count": null,
      "outputs": [
        {
          "output_type": "stream",
          "text": [
            "'c' argument looks like a single numeric RGB or RGBA sequence, which should be avoided as value-mapping will have precedence in case its length matches with 'x' & 'y'.  Please use a 2-D array with a single row if you really want to specify the same RGB or RGBA value for all points.\n",
            "'c' argument looks like a single numeric RGB or RGBA sequence, which should be avoided as value-mapping will have precedence in case its length matches with 'x' & 'y'.  Please use a 2-D array with a single row if you really want to specify the same RGB or RGBA value for all points.\n"
          ],
          "name": "stderr"
        },
        {
          "output_type": "display_data",
          "data": {
            "image/png": "[encoded data removed]",
            "text/plain": [
              "<Figure size 720x432 with 2 Axes>"
            ]
          },
          "metadata": {
            "tags": []
          }
        }
      ]
    },
    {
      "cell_type": "markdown",
      "metadata": {
        "id": "cTdfd2NT4mao"
      },
      "source": [
        "Ahora reportamos el error de entrenamiento y prueba:"
      ]
    },
    {
      "cell_type": "code",
      "metadata": {
        "id": "hN9OWsrg4mar",
        "outputId": "47077511-17a5-4b1a-c237-608fba2ad3bb",
        "colab": {
          "base_uri": "https://localhost:8080/",
          "height": 52
        }
      },
      "source": [
        "print(\"Error en entrenamiento: {}\".format(1-rbf_svm.score(X_train_moons, y_train_moons)))\n",
        "print(\"Error en prueba: {}\".format(1-rbf_svm.score(X_test_moons, y_test_moons)))"
      ],
      "execution_count": null,
      "outputs": [
        {
          "output_type": "stream",
          "text": [
            "Error en entrenamiento: 0.0\n",
            "Error en prueba: 0.22777777777777775\n"
          ],
          "name": "stdout"
        }
      ]
    },
    {
      "cell_type": "markdown",
      "metadata": {
        "id": "bbNDjoaF4maw"
      },
      "source": [
        "Ahora escogemos un valor de $\\gamma$ intermedio"
      ]
    },
    {
      "cell_type": "code",
      "metadata": {
        "id": "raTWjAl_4may",
        "outputId": "2a001057-79a0-4b78-ad87-c87e06cf333a",
        "colab": {
          "base_uri": "https://localhost:8080/",
          "height": 459
        }
      },
      "source": [
        "rbf_svm = SVC(kernel='rbf', gamma = 0.7)\n",
        "rbf_svm.fit(X_train_moons, y_train_moons)\n",
        "\n",
        "pl.figure(figsize = (10, 6))\n",
        "plot_decision_region(X_test_moons, gen_pred_fun(rbf_svm))\n",
        "plot_data(X_test_moons, y_test_moons)"
      ],
      "execution_count": null,
      "outputs": [
        {
          "output_type": "stream",
          "text": [
            "'c' argument looks like a single numeric RGB or RGBA sequence, which should be avoided as value-mapping will have precedence in case its length matches with 'x' & 'y'.  Please use a 2-D array with a single row if you really want to specify the same RGB or RGBA value for all points.\n",
            "'c' argument looks like a single numeric RGB or RGBA sequence, which should be avoided as value-mapping will have precedence in case its length matches with 'x' & 'y'.  Please use a 2-D array with a single row if you really want to specify the same RGB or RGBA value for all points.\n"
          ],
          "name": "stderr"
        },
        {
          "output_type": "display_data",
          "data": {
            "image/png": "[encoded data removed]",
            "text/plain": [
              "<Figure size 720x432 with 2 Axes>"
            ]
          },
          "metadata": {
            "tags": []
          }
        }
      ]
    },
    {
      "cell_type": "code",
      "metadata": {
        "id": "SkcTzLg-4ma4",
        "outputId": "243dc570-c4d6-4b85-90bb-dd98c9eaad10",
        "colab": {
          "base_uri": "https://localhost:8080/",
          "height": 52
        }
      },
      "source": [
        "print(\"Error en entrenamiento: {}\".format(1-rbf_svm.score(X_train_moons, y_train_moons)))\n",
        "print(\"Error en prueba: {}\".format(1-rbf_svm.score(X_test_moons, y_test_moons)))"
      ],
      "execution_count": null,
      "outputs": [
        {
          "output_type": "stream",
          "text": [
            "Error en entrenamiento: 0.08809523809523812\n",
            "Error en prueba: 0.1444444444444445\n"
          ],
          "name": "stdout"
        }
      ]
    },
    {
      "cell_type": "markdown",
      "metadata": {
        "id": "ULwfwNmH4ma7"
      },
      "source": [
        "Probamos sobre el conjunto de datos iris"
      ]
    },
    {
      "cell_type": "code",
      "metadata": {
        "id": "TZY0ewQp4ma9",
        "outputId": "ca5eb3ce-ea3a-429a-9aa3-06704e9d6b19",
        "colab": {
          "base_uri": "https://localhost:8080/",
          "height": 477
        }
      },
      "source": [
        "rbf_svm = SVC(kernel='rbf', gamma = 0.7)\n",
        "rbf_svm.fit(X_train_iris, y_train_iris)\n",
        "\n",
        "pl.figure(figsize = (10, 6))\n",
        "plot_decision_region(X_test_iris, gen_pred_fun(rbf_svm))\n",
        "plot_data(X_test_iris, y_test_iris)"
      ],
      "execution_count": null,
      "outputs": [
        {
          "output_type": "stream",
          "text": [
            "'c' argument looks like a single numeric RGB or RGBA sequence, which should be avoided as value-mapping will have precedence in case its length matches with 'x' & 'y'.  Please use a 2-D array with a single row if you really want to specify the same RGB or RGBA value for all points.\n",
            "'c' argument looks like a single numeric RGB or RGBA sequence, which should be avoided as value-mapping will have precedence in case its length matches with 'x' & 'y'.  Please use a 2-D array with a single row if you really want to specify the same RGB or RGBA value for all points.\n",
            "'c' argument looks like a single numeric RGB or RGBA sequence, which should be avoided as value-mapping will have precedence in case its length matches with 'x' & 'y'.  Please use a 2-D array with a single row if you really want to specify the same RGB or RGBA value for all points.\n"
          ],
          "name": "stderr"
        },
        {
          "output_type": "display_data",
          "data": {
            "image/png": "[encoded data removed]",
            "text/plain": [
              "<Figure size 720x432 with 2 Axes>"
            ]
          },
          "metadata": {
            "tags": []
          }
        }
      ]
    },
    {
      "cell_type": "markdown",
      "metadata": {
        "id": "ZoZJ1WLi4mbB"
      },
      "source": [
        "Finalmente reportamos el error en entrenamiento y prueba:"
      ]
    },
    {
      "cell_type": "code",
      "metadata": {
        "id": "AqwCfefp4mbC",
        "outputId": "322b44cd-5f58-4593-e6c8-32b95431b879",
        "colab": {
          "base_uri": "https://localhost:8080/",
          "height": 52
        }
      },
      "source": [
        "print(\"Error en entrenamiento: {}\".format(1-rbf_svm.score(X_train_iris, y_train_iris)))\n",
        "print(\"Error en prueba: {}\".format(1-rbf_svm.score(X_test_iris, y_test_iris)))"
      ],
      "execution_count": null,
      "outputs": [
        {
          "output_type": "stream",
          "text": [
            "Error en entrenamiento: 0.02857142857142858\n",
            "Error en prueba: 0.022222222222222254\n"
          ],
          "name": "stdout"
        }
      ]
    },
    {
      "cell_type": "markdown",
      "metadata": {
        "id": "bxQp0Wfx4mbF"
      },
      "source": [
        "# Estimando de una forma más robusta los hiperparámetros del modelo\n",
        "\n",
        "Hasta el momento nos hemos concentrado en evaluar nuestros modelos en una partición de prueba. Sin embargo, es común introducir sobreajuste a través de la modificación manual de los hiperparámetros de un modelo conforme vamos reportando el error de generalización sobre el conjunto de prueba.\n",
        "\n",
        "<img src=\"https://drive.google.com/uc?export=view&id=1brLudEu094L7H3-cFqnrIRZnDrFIfrNW\">\n",
        "\n",
        "En la anterior imagen, introducimos una nueva partición, conocida como partición de \"**validación**\". Esta partición es resultado de tomar la partición de entrenamiento y volver a dividirla (en entrenamiento y validación) de tal forma que cualquier configuración de parámetros que se use para entrenar un modelo, pueda ser reportada en **validación**. Una vez estemos seguros que tenemos el modelo con el mejor desempeño en **validación**, volvemos a unir ambas particiones, entrenamos un modelo sobre la partición original de entrenamiento y reportamos **una sola vez** en el conjunto de prueba."
      ]
    },
    {
      "cell_type": "markdown",
      "metadata": {
        "id": "31NQepzl4mbF"
      },
      "source": [
        "# Validación cruzada de  k pliegues"
      ]
    },
    {
      "cell_type": "markdown",
      "metadata": {
        "id": "Wj4ecIP54mbI"
      },
      "source": [
        "A pesar de que se introdujo una nueva partición para validar los parámetros de un modelo, se sigue usando una partición reducida para entrenar el conjunto de datos. La validación cruzada nos permite usar una mayor parte de los datos para construír el modelo y generar un estimador más robusto y con mayor capacidad de generalización. En validación cruzada, los datos son particionados varias veces en entrenamiento y validación de forma repetida. Finalmente el desempeño del clasificador es agregado sobre las diferentes particiones de validación para obtener un estimador más robusto.\n",
        "\n",
        "La validación cruzada se hace comúnmente de la siguiente manera:\n",
        "* Se divide el conjunto de entrenamiento en k-pliegues o particiones (usualmente 3, 5 o 10).\n",
        "* Estas particiones deben ser del mismo tamaño\n",
        "* En cada iteración uno de los pliegues es usado como la partición de validación, mientras el resto es usado como la partición de entrenamiento.\n",
        "* Se reporta y guarda el desempeño sobre esa partición de validación\n",
        "\n",
        "<img src=\"https://drive.google.com/uc?export=view&id=12nCvyPDNOgHuxpToJrlR-m71nt3SOrKo\">"
      ]
    },
    {
      "cell_type": "markdown",
      "metadata": {
        "id": "Z9zTjnsV4mby"
      },
      "source": [
        "## Validación cruzada usando Scikit-Learn\n",
        "\n",
        "Scikit-Learn provee una implementación muy eficiente para realizar **validación cruzada** usando `sklearn.model_selection`. `sklearn.model_selection.cross_val_score` recibe un estimador y un conjunto de datos, luego\n",
        "hace el particionamiento y entrena un modelo sobre cada partición de validación."
      ]
    },
    {
      "cell_type": "code",
      "metadata": {
        "id": "FVG0O_O04mbz"
      },
      "source": [
        "from sklearn.model_selection import cross_val_score, KFold, StratifiedKFold\n",
        "X = iris.data\n",
        "y = iris.target\n",
        "\n",
        "classifier = LinearSVC()\n"
      ],
      "execution_count": null,
      "outputs": []
    },
    {
      "cell_type": "markdown",
      "metadata": {
        "id": "OeoxnT4P4mb1"
      },
      "source": [
        "El parámetro `cv` en `cross_val_score` controla el número de pliegues a usar."
      ]
    },
    {
      "cell_type": "code",
      "metadata": {
        "id": "j_pig3JR4mb2",
        "outputId": "4024dc18-3f39-42d1-cd1b-d909621dbfa3",
        "colab": {
          "base_uri": "https://localhost:8080/",
          "height": 245
        }
      },
      "source": [
        "X = iris.data\n",
        "y = iris.target\n",
        "\n",
        "scores = cross_val_score(classifier, X, y, cv=5)\n",
        "print('Accuracy por cada pliegue: {}'.format(scores))\n",
        "print('Accuracy promedio sobre los 5 pliegues: {}'.format(np.mean(scores)))"
      ],
      "execution_count": null,
      "outputs": [
        {
          "output_type": "stream",
          "text": [
            "Accuracy por cada pliegue: [1.         1.         0.93333333 0.9        1.        ]\n",
            "Accuracy promedio sobre los 5 pliegues: 0.9666666666666668\n"
          ],
          "name": "stdout"
        },
        {
          "output_type": "stream",
          "text": [
            "/usr/local/lib/python3.6/dist-packages/sklearn/svm/base.py:931: ConvergenceWarning: Liblinear failed to converge, increase the number of iterations.\n",
            "  \"the number of iterations.\", ConvergenceWarning)\n",
            "/usr/local/lib/python3.6/dist-packages/sklearn/svm/base.py:931: ConvergenceWarning: Liblinear failed to converge, increase the number of iterations.\n",
            "  \"the number of iterations.\", ConvergenceWarning)\n",
            "/usr/local/lib/python3.6/dist-packages/sklearn/svm/base.py:931: ConvergenceWarning: Liblinear failed to converge, increase the number of iterations.\n",
            "  \"the number of iterations.\", ConvergenceWarning)\n",
            "/usr/local/lib/python3.6/dist-packages/sklearn/svm/base.py:931: ConvergenceWarning: Liblinear failed to converge, increase the number of iterations.\n",
            "  \"the number of iterations.\", ConvergenceWarning)\n",
            "/usr/local/lib/python3.6/dist-packages/sklearn/svm/base.py:931: ConvergenceWarning: Liblinear failed to converge, increase the number of iterations.\n",
            "  \"the number of iterations.\", ConvergenceWarning)\n"
          ],
          "name": "stderr"
        }
      ]
    },
    {
      "cell_type": "markdown",
      "metadata": {
        "id": "pKpJSO3i4mb5"
      },
      "source": [
        "`cross_val_score` realiza por defecto una partición estratificada usando `sklearn.model_selection.StratifiedKFold`. Esta estrategia consiste en hacer un particionamiento de tal forma que cada partición tenga la misma distribución de etiquetas $y$. En caso que no se quiera hacer una partición estratificada, se puede usar `sklearn.model_selection.KFold`.\n",
        "\n",
        "`sklearn.model_selection.StratifiedKFold` genera de forma automática la partición estratificada, sin necesidad de hacer una permutación de los datos como lo hicimos anteriormente. A continuación revisamos los índices que genera `StratifiedKFold`:"
      ]
    },
    {
      "cell_type": "code",
      "metadata": {
        "id": "TYUiBzS84mb7",
        "outputId": "6236dac5-326f-4170-8320-5d8847147c9f",
        "colab": {
          "base_uri": "https://localhost:8080/",
          "height": 373
        }
      },
      "source": [
        "cv = StratifiedKFold(n_splits=5)\n",
        "\n",
        "for train, val in cv.split(iris.data, iris.target):\n",
        "    print(val)\n",
        "    print('Tamaño entrenamiento: {}'.format(len(train)))\n",
        "    print('Tamaño validación: {}'.format(len(val)))"
      ],
      "execution_count": null,
      "outputs": [
        {
          "output_type": "stream",
          "text": [
            "[  0   1   2   3   4   5   6   7   8   9  50  51  52  53  54  55  56  57\n",
            "  58  59 100 101 102 103 104 105 106 107 108 109]\n",
            "Tamaño entrenamiento: 120\n",
            "Tamaño validación: 30\n",
            "[ 10  11  12  13  14  15  16  17  18  19  60  61  62  63  64  65  66  67\n",
            "  68  69 110 111 112 113 114 115 116 117 118 119]\n",
            "Tamaño entrenamiento: 120\n",
            "Tamaño validación: 30\n",
            "[ 20  21  22  23  24  25  26  27  28  29  70  71  72  73  74  75  76  77\n",
            "  78  79 120 121 122 123 124 125 126 127 128 129]\n",
            "Tamaño entrenamiento: 120\n",
            "Tamaño validación: 30\n",
            "[ 30  31  32  33  34  35  36  37  38  39  80  81  82  83  84  85  86  87\n",
            "  88  89 130 131 132 133 134 135 136 137 138 139]\n",
            "Tamaño entrenamiento: 120\n",
            "Tamaño validación: 30\n",
            "[ 40  41  42  43  44  45  46  47  48  49  90  91  92  93  94  95  96  97\n",
            "  98  99 140 141 142 143 144 145 146 147 148 149]\n",
            "Tamaño entrenamiento: 120\n",
            "Tamaño validación: 30\n"
          ],
          "name": "stdout"
        }
      ]
    },
    {
      "cell_type": "markdown",
      "metadata": {
        "id": "RQJ4YcrL4mb-"
      },
      "source": [
        "Usando una función definida previamente, vamos a validar la distribución de las etiquetas por clase."
      ]
    },
    {
      "cell_type": "code",
      "metadata": {
        "id": "xOEzcWxL4mb-",
        "outputId": "28e523fa-c04d-4f4c-abb7-7eabb4f5cbec",
        "colab": {
          "base_uri": "https://localhost:8080/",
          "height": 280
        }
      },
      "source": [
        "n_folds = 5\n",
        "cv_str = StratifiedKFold(n_splits=n_folds)\n",
        "y = iris.target\n",
        "\n",
        "y_labels = []\n",
        "for _, val in cv_str.split(iris.data, iris.target):\n",
        "    y_labels.append(y[val])\n",
        "\n",
        "plot_labels(n_folds, 3, y_labels)"
      ],
      "execution_count": null,
      "outputs": [
        {
          "output_type": "display_data",
          "data": {
            "image/png": "[encoded data removed]",
            "text/plain": [
              "<matplotlib.figure.Figure at 0x7f292fcc19b0>"
            ]
          },
          "metadata": {
            "tags": []
          }
        }
      ]
    },
    {
      "cell_type": "code",
      "metadata": {
        "id": "5i_VMVyhxjei",
        "outputId": "ff682cad-4592-40b7-e4cd-15801b840f26",
        "colab": {
          "base_uri": "https://localhost:8080/",
          "height": 70
        }
      },
      "source": [
        "scores = cross_val_score(classifier, X, y, cv=cv_str)\n",
        "print('Accuracy por cada pliegue: {}'.format(scores))\n",
        "print('Accuracy promedio sobre los 5 pliegues: {}'.format(np.mean(scores)))"
      ],
      "execution_count": null,
      "outputs": [
        {
          "output_type": "stream",
          "text": [
            "Accuracy por cada pliegue: [1.         1.         0.93333333 0.9        1.        ]\n",
            "Accuracy promedio sobre los 5 pliegues: 0.9666666666666668\n"
          ],
          "name": "stdout"
        }
      ]
    },
    {
      "cell_type": "markdown",
      "metadata": {
        "id": "Z954KdDm4mcC"
      },
      "source": [
        "Por otro lado, usando `KFold` podemos obtener un particionamiento de tantos pliegues como se especifiquen. Sin embargo, se corre el riesgo de no generar particiones balanceadas, por lo tanto lo estimadores no van a tener el desempeño esperado. Por ejemplo en el **Pliegue 0** solo hay datos de la clase $0$."
      ]
    },
    {
      "cell_type": "code",
      "metadata": {
        "id": "-TAhlRqz4mcD",
        "outputId": "56bdeb59-2ca5-4240-db0b-f269b35a5ff2",
        "colab": {
          "base_uri": "https://localhost:8080/",
          "height": 280
        }
      },
      "source": [
        "n_folds = 5\n",
        "cv_nostr = KFold(n_splits=n_folds)\n",
        "y = iris.target\n",
        "\n",
        "y_labels = []\n",
        "for _, val in cv_nostr.split(iris.data, iris.target):\n",
        "    y_labels.append(y[val])\n",
        "\n",
        "plot_labels(n_folds, 3, y_labels)"
      ],
      "execution_count": null,
      "outputs": [
        {
          "output_type": "display_data",
          "data": {
            "image/png": "[encoded data removed]",
            "text/plain": [
              "<matplotlib.figure.Figure at 0x7f29302a4b70>"
            ]
          },
          "metadata": {
            "tags": []
          }
        }
      ]
    },
    {
      "cell_type": "code",
      "metadata": {
        "id": "JQ7G_0-hxsr-",
        "outputId": "6f6c54c7-fd00-4dbe-9d03-52cd90b51dc7",
        "colab": {
          "base_uri": "https://localhost:8080/",
          "height": 70
        }
      },
      "source": [
        "scores = cross_val_score(classifier, X, y, cv=cv_nostr)\n",
        "print('Accuracy por cada pliegue: {}'.format(scores))\n",
        "print('Accuracy promedio sobre los 5 pliegues: {}'.format(np.mean(scores)))"
      ],
      "execution_count": null,
      "outputs": [
        {
          "output_type": "stream",
          "text": [
            "Accuracy por cada pliegue: [1.         1.         0.66666667 0.96666667 0.66666667]\n",
            "Accuracy promedio sobre los 5 pliegues: 0.86\n"
          ],
          "name": "stdout"
        }
      ]
    },
    {
      "cell_type": "markdown",
      "metadata": {
        "id": "t-iqgqFr4mcG"
      },
      "source": [
        "# Grid search"
      ]
    },
    {
      "cell_type": "markdown",
      "metadata": {
        "id": "fDz2uko74mcG"
      },
      "source": [
        "SVM usando RBF comúnmente requiere el ajuste de dos parámetros:\n",
        "* `gamma`\n",
        "* `C`\n",
        "\n",
        "Ambos parámetros pueden ser explorados usando un retículo (grid) de parámetros y evaluando su desempeño usando validación cruzada de $k$ pliegues. A continuación, creamos una partición entrenamiento y prueba sobre el conjunto de datos IRIS."
      ]
    },
    {
      "cell_type": "code",
      "metadata": {
        "id": "90tMB4Sj4mcG"
      },
      "source": [
        "from sklearn.model_selection import train_test_split, GridSearchCV\n",
        "\n",
        "X_train, X_test, y_train, y_test = train_test_split(X, y, test_size=0.3, random_state=1)"
      ],
      "execution_count": null,
      "outputs": []
    },
    {
      "cell_type": "markdown",
      "metadata": {
        "id": "wTDnNHTp4mcS"
      },
      "source": [
        "Definimos los siguientes valores para $C$ y $\\textit{gamma}$."
      ]
    },
    {
      "cell_type": "code",
      "metadata": {
        "id": "q6XXD8U54mcU"
      },
      "source": [
        "grid = [i for i in range(-5, 7, 1)]\n",
        "param_grid = {'C': [2**i for i in grid], 'gamma': [2**i for i in grid]}"
      ],
      "execution_count": null,
      "outputs": []
    },
    {
      "cell_type": "markdown",
      "metadata": {
        "id": "7KBcxPY64mcc"
      },
      "source": [
        "Valores de $C$:"
      ]
    },
    {
      "cell_type": "code",
      "metadata": {
        "id": "S-hARTcE4mcd",
        "outputId": "c11eb296-f2c0-421f-a15a-a946744a279b",
        "colab": {
          "base_uri": "https://localhost:8080/",
          "height": 35
        }
      },
      "source": [
        "print(param_grid['C'])"
      ],
      "execution_count": null,
      "outputs": [
        {
          "output_type": "stream",
          "text": [
            "[0.03125, 0.0625, 0.125, 0.25, 0.5, 1, 2, 4, 8, 16, 32, 64]\n"
          ],
          "name": "stdout"
        }
      ]
    },
    {
      "cell_type": "markdown",
      "metadata": {
        "id": "2-6Z8Go94mci"
      },
      "source": [
        "Valores de $\\textit{gamma}$:"
      ]
    },
    {
      "cell_type": "code",
      "metadata": {
        "id": "D6UY5V-F4mci",
        "outputId": "145d04ed-b1b8-40e1-a933-f3e7b639e43a",
        "colab": {
          "base_uri": "https://localhost:8080/",
          "height": 35
        }
      },
      "source": [
        "print(param_grid['gamma'])"
      ],
      "execution_count": null,
      "outputs": [
        {
          "output_type": "stream",
          "text": [
            "[0.03125, 0.0625, 0.125, 0.25, 0.5, 1, 2, 4, 8, 16, 32, 64]\n"
          ],
          "name": "stdout"
        }
      ]
    },
    {
      "cell_type": "code",
      "metadata": {
        "id": "YvIFKj9c4mcn",
        "outputId": "64c18eb5-4181-4ade-dd3d-cc4a378ae4ba",
        "colab": {
          "base_uri": "https://localhost:8080/",
          "height": 52
        }
      },
      "source": [
        "param_grid"
      ],
      "execution_count": null,
      "outputs": [
        {
          "output_type": "execute_result",
          "data": {
            "text/plain": [
              "{'C': [0.03125, 0.0625, 0.125, 0.25, 0.5, 1, 2, 4, 8, 16, 32, 64],\n",
              " 'gamma': [0.03125, 0.0625, 0.125, 0.25, 0.5, 1, 2, 4, 8, 16, 32, 64]}"
            ]
          },
          "metadata": {
            "tags": []
          },
          "execution_count": 44
        }
      ]
    },
    {
      "cell_type": "markdown",
      "metadata": {
        "id": "olCCRaVw4mdM"
      },
      "source": [
        "`GridSearchCV` recibe dos elementos fundamentales:\n",
        "* `estimator`: Modelo de Scikit-Learn. Puede ser `SVC(kernel='rbf')`.\n",
        "* `param_grid`: Diccionario que contiene los parámetros que se van a explorar usando validación cruzada."
      ]
    },
    {
      "cell_type": "code",
      "metadata": {
        "id": "jmQBKukE4mdO",
        "outputId": "4d47b1f8-a4f8-41b3-d7a7-a63098270239",
        "colab": {
          "base_uri": "https://localhost:8080/",
          "height": 15308
        }
      },
      "source": [
        "clf = GridSearchCV(SVC(kernel='rbf'), param_grid=param_grid, verbose=2, return_train_score=True)\n",
        "clf.fit(X_train, y_train)"
      ],
      "execution_count": null,
      "outputs": [
        {
          "output_type": "stream",
          "text": [
            "/usr/local/lib/python3.6/dist-packages/sklearn/model_selection/_split.py:2053: FutureWarning: You should specify a value for 'cv' instead of relying on the default value. The default value will change from 3 to 5 in version 0.22.\n",
            "  warnings.warn(CV_WARNING, FutureWarning)\n",
            "[Parallel(n_jobs=1)]: Using backend SequentialBackend with 1 concurrent workers.\n",
            "[Parallel(n_jobs=1)]: Done   1 out of   1 | elapsed:    0.0s remaining:    0.0s\n"
          ],
          "name": "stderr"
        },
        {
          "output_type": "stream",
          "text": [
            "Fitting 3 folds for each of 144 candidates, totalling 432 fits\n",
            "[CV] C=0.03125, gamma=0.03125 ........................................\n",
            "[CV] ......................... C=0.03125, gamma=0.03125, total=   0.0s\n",
            "[CV] C=0.03125, gamma=0.03125 ........................................\n",
            "[CV] ......................... C=0.03125, gamma=0.03125, total=   0.0s\n",
            "[CV] C=0.03125, gamma=0.03125 ........................................\n",
            "[CV] ......................... C=0.03125, gamma=0.03125, total=   0.0s\n",
            "[CV] C=0.03125, gamma=0.0625 .........................................\n",
            "[CV] .......................... C=0.03125, gamma=0.0625, total=   0.0s\n",
            "[CV] C=0.03125, gamma=0.0625 .........................................\n",
            "[CV] .......................... C=0.03125, gamma=0.0625, total=   0.0s\n",
            "[CV] C=0.03125, gamma=0.0625 .........................................\n",
            "[CV] .......................... C=0.03125, gamma=0.0625, total=   0.0s\n",
            "[CV] C=0.03125, gamma=0.125 ..........................................\n",
            "[CV] ........................... C=0.03125, gamma=0.125, total=   0.0s\n",
            "[CV] C=0.03125, gamma=0.125 ..........................................\n",
            "[CV] ........................... C=0.03125, gamma=0.125, total=   0.0s\n",
            "[CV] C=0.03125, gamma=0.125 ..........................................\n",
            "[CV] ........................... C=0.03125, gamma=0.125, total=   0.0s\n",
            "[CV] C=0.03125, gamma=0.25 ...........................................\n",
            "[CV] ............................ C=0.03125, gamma=0.25, total=   0.0s\n",
            "[CV] C=0.03125, gamma=0.25 ...........................................\n",
            "[CV] ............................ C=0.03125, gamma=0.25, total=   0.0s\n",
            "[CV] C=0.03125, gamma=0.25 ...........................................\n",
            "[CV] ............................ C=0.03125, gamma=0.25, total=   0.0s\n",
            "[CV] C=0.03125, gamma=0.5 ............................................\n",
            "[CV] ............................. C=0.03125, gamma=0.5, total=   0.0s\n",
            "[CV] C=0.03125, gamma=0.5 ............................................\n",
            "[CV] ............................. C=0.03125, gamma=0.5, total=   0.0s\n",
            "[CV] C=0.03125, gamma=0.5 ............................................\n",
            "[CV] ............................. C=0.03125, gamma=0.5, total=   0.0s\n",
            "[CV] C=0.03125, gamma=1 ..............................................\n",
            "[CV] ............................... C=0.03125, gamma=1, total=   0.0s\n",
            "[CV] C=0.03125, gamma=1 ..............................................\n",
            "[CV] ............................... C=0.03125, gamma=1, total=   0.0s\n",
            "[CV] C=0.03125, gamma=1 ..............................................\n",
            "[CV] ............................... C=0.03125, gamma=1, total=   0.0s\n",
            "[CV] C=0.03125, gamma=2 ..............................................\n",
            "[CV] ............................... C=0.03125, gamma=2, total=   0.0s\n",
            "[CV] C=0.03125, gamma=2 ..............................................\n",
            "[CV] ............................... C=0.03125, gamma=2, total=   0.0s\n",
            "[CV] C=0.03125, gamma=2 ..............................................\n",
            "[CV] ............................... C=0.03125, gamma=2, total=   0.0s\n",
            "[CV] C=0.03125, gamma=4 ..............................................\n",
            "[CV] ............................... C=0.03125, gamma=4, total=   0.0s\n",
            "[CV] C=0.03125, gamma=4 ..............................................\n",
            "[CV] ............................... C=0.03125, gamma=4, total=   0.0s\n",
            "[CV] C=0.03125, gamma=4 ..............................................\n",
            "[CV] ............................... C=0.03125, gamma=4, total=   0.0s\n",
            "[CV] C=0.03125, gamma=8 ..............................................\n",
            "[CV] ............................... C=0.03125, gamma=8, total=   0.0s\n",
            "[CV] C=0.03125, gamma=8 ..............................................\n",
            "[CV] ............................... C=0.03125, gamma=8, total=   0.0s\n",
            "[CV] C=0.03125, gamma=8 ..............................................\n",
            "[CV] ............................... C=0.03125, gamma=8, total=   0.0s\n",
            "[CV] C=0.03125, gamma=16 .............................................\n",
            "[CV] .............................. C=0.03125, gamma=16, total=   0.0s\n",
            "[CV] C=0.03125, gamma=16 .............................................\n",
            "[CV] .............................. C=0.03125, gamma=16, total=   0.0s\n",
            "[CV] C=0.03125, gamma=16 .............................................\n",
            "[CV] .............................. C=0.03125, gamma=16, total=   0.0s\n",
            "[CV] C=0.03125, gamma=32 .............................................\n",
            "[CV] .............................. C=0.03125, gamma=32, total=   0.0s\n",
            "[CV] C=0.03125, gamma=32 .............................................\n",
            "[CV] .............................. C=0.03125, gamma=32, total=   0.0s\n",
            "[CV] C=0.03125, gamma=32 .............................................\n",
            "[CV] .............................. C=0.03125, gamma=32, total=   0.0s\n",
            "[CV] C=0.03125, gamma=64 .............................................\n",
            "[CV] .............................. C=0.03125, gamma=64, total=   0.0s\n",
            "[CV] C=0.03125, gamma=64 .............................................\n",
            "[CV] .............................. C=0.03125, gamma=64, total=   0.0s\n",
            "[CV] C=0.03125, gamma=64 .............................................\n",
            "[CV] .............................. C=0.03125, gamma=64, total=   0.0s\n",
            "[CV] C=0.0625, gamma=0.03125 .........................................\n",
            "[CV] .......................... C=0.0625, gamma=0.03125, total=   0.0s\n",
            "[CV] C=0.0625, gamma=0.03125 .........................................\n",
            "[CV] .......................... C=0.0625, gamma=0.03125, total=   0.0s\n",
            "[CV] C=0.0625, gamma=0.03125 .........................................\n",
            "[CV] .......................... C=0.0625, gamma=0.03125, total=   0.0s\n",
            "[CV] C=0.0625, gamma=0.0625 ..........................................\n",
            "[CV] ........................... C=0.0625, gamma=0.0625, total=   0.0s\n",
            "[CV] C=0.0625, gamma=0.0625 ..........................................\n",
            "[CV] ........................... C=0.0625, gamma=0.0625, total=   0.0s\n",
            "[CV] C=0.0625, gamma=0.0625 ..........................................\n",
            "[CV] ........................... C=0.0625, gamma=0.0625, total=   0.0s\n",
            "[CV] C=0.0625, gamma=0.125 ...........................................\n",
            "[CV] ............................ C=0.0625, gamma=0.125, total=   0.0s\n",
            "[CV] C=0.0625, gamma=0.125 ...........................................\n",
            "[CV] ............................ C=0.0625, gamma=0.125, total=   0.0s\n",
            "[CV] C=0.0625, gamma=0.125 ...........................................\n",
            "[CV] ............................ C=0.0625, gamma=0.125, total=   0.0s\n",
            "[CV] C=0.0625, gamma=0.25 ............................................\n",
            "[CV] ............................. C=0.0625, gamma=0.25, total=   0.0s\n",
            "[CV] C=0.0625, gamma=0.25 ............................................\n",
            "[CV] ............................. C=0.0625, gamma=0.25, total=   0.0s\n",
            "[CV] C=0.0625, gamma=0.25 ............................................\n",
            "[CV] ............................. C=0.0625, gamma=0.25, total=   0.0s\n",
            "[CV] C=0.0625, gamma=0.5 .............................................\n",
            "[CV] .............................. C=0.0625, gamma=0.5, total=   0.0s\n",
            "[CV] C=0.0625, gamma=0.5 .............................................\n",
            "[CV] .............................. C=0.0625, gamma=0.5, total=   0.0s\n",
            "[CV] C=0.0625, gamma=0.5 .............................................\n",
            "[CV] .............................. C=0.0625, gamma=0.5, total=   0.0s\n",
            "[CV] C=0.0625, gamma=1 ...............................................\n",
            "[CV] ................................ C=0.0625, gamma=1, total=   0.0s\n",
            "[CV] C=0.0625, gamma=1 ...............................................\n",
            "[CV] ................................ C=0.0625, gamma=1, total=   0.0s\n",
            "[CV] C=0.0625, gamma=1 ...............................................\n",
            "[CV] ................................ C=0.0625, gamma=1, total=   0.0s\n",
            "[CV] C=0.0625, gamma=2 ...............................................\n",
            "[CV] ................................ C=0.0625, gamma=2, total=   0.0s\n",
            "[CV] C=0.0625, gamma=2 ...............................................\n",
            "[CV] ................................ C=0.0625, gamma=2, total=   0.0s\n",
            "[CV] C=0.0625, gamma=2 ...............................................\n",
            "[CV] ................................ C=0.0625, gamma=2, total=   0.0s\n",
            "[CV] C=0.0625, gamma=4 ...............................................\n",
            "[CV] ................................ C=0.0625, gamma=4, total=   0.0s\n",
            "[CV] C=0.0625, gamma=4 ...............................................\n",
            "[CV] ................................ C=0.0625, gamma=4, total=   0.0s\n",
            "[CV] C=0.0625, gamma=4 ...............................................\n",
            "[CV] ................................ C=0.0625, gamma=4, total=   0.0s\n",
            "[CV] C=0.0625, gamma=8 ...............................................\n",
            "[CV] ................................ C=0.0625, gamma=8, total=   0.0s\n",
            "[CV] C=0.0625, gamma=8 ...............................................\n",
            "[CV] ................................ C=0.0625, gamma=8, total=   0.0s\n",
            "[CV] C=0.0625, gamma=8 ...............................................\n",
            "[CV] ................................ C=0.0625, gamma=8, total=   0.0s\n",
            "[CV] C=0.0625, gamma=16 ..............................................\n",
            "[CV] ............................... C=0.0625, gamma=16, total=   0.0s\n",
            "[CV] C=0.0625, gamma=16 ..............................................\n",
            "[CV] ............................... C=0.0625, gamma=16, total=   0.0s\n",
            "[CV] C=0.0625, gamma=16 ..............................................\n",
            "[CV] ............................... C=0.0625, gamma=16, total=   0.0s\n",
            "[CV] C=0.0625, gamma=32 ..............................................\n",
            "[CV] ............................... C=0.0625, gamma=32, total=   0.0s\n",
            "[CV] C=0.0625, gamma=32 ..............................................\n",
            "[CV] ............................... C=0.0625, gamma=32, total=   0.0s\n",
            "[CV] C=0.0625, gamma=32 ..............................................\n",
            "[CV] ............................... C=0.0625, gamma=32, total=   0.0s\n",
            "[CV] C=0.0625, gamma=64 ..............................................\n",
            "[CV] ............................... C=0.0625, gamma=64, total=   0.0s\n",
            "[CV] C=0.0625, gamma=64 ..............................................\n",
            "[CV] ............................... C=0.0625, gamma=64, total=   0.0s\n",
            "[CV] C=0.0625, gamma=64 ..............................................\n",
            "[CV] ............................... C=0.0625, gamma=64, total=   0.0s\n",
            "[CV] C=0.125, gamma=0.03125 ..........................................\n",
            "[CV] ........................... C=0.125, gamma=0.03125, total=   0.0s\n",
            "[CV] C=0.125, gamma=0.03125 ..........................................\n",
            "[CV] ........................... C=0.125, gamma=0.03125, total=   0.0s\n",
            "[CV] C=0.125, gamma=0.03125 ..........................................\n",
            "[CV] ........................... C=0.125, gamma=0.03125, total=   0.0s\n",
            "[CV] C=0.125, gamma=0.0625 ...........................................\n",
            "[CV] ............................ C=0.125, gamma=0.0625, total=   0.0s\n",
            "[CV] C=0.125, gamma=0.0625 ...........................................\n",
            "[CV] ............................ C=0.125, gamma=0.0625, total=   0.0s\n",
            "[CV] C=0.125, gamma=0.0625 ...........................................\n",
            "[CV] ............................ C=0.125, gamma=0.0625, total=   0.0s\n",
            "[CV] C=0.125, gamma=0.125 ............................................\n",
            "[CV] ............................. C=0.125, gamma=0.125, total=   0.0s\n",
            "[CV] C=0.125, gamma=0.125 ............................................\n",
            "[CV] ............................. C=0.125, gamma=0.125, total=   0.0s\n",
            "[CV] C=0.125, gamma=0.125 ............................................\n",
            "[CV] ............................. C=0.125, gamma=0.125, total=   0.0s\n",
            "[CV] C=0.125, gamma=0.25 .............................................\n",
            "[CV] .............................. C=0.125, gamma=0.25, total=   0.0s\n",
            "[CV] C=0.125, gamma=0.25 .............................................\n",
            "[CV] .............................. C=0.125, gamma=0.25, total=   0.0s\n",
            "[CV] C=0.125, gamma=0.25 .............................................\n",
            "[CV] .............................. C=0.125, gamma=0.25, total=   0.0s\n",
            "[CV] C=0.125, gamma=0.5 ..............................................\n",
            "[CV] ............................... C=0.125, gamma=0.5, total=   0.0s\n",
            "[CV] C=0.125, gamma=0.5 ..............................................\n",
            "[CV] ............................... C=0.125, gamma=0.5, total=   0.0s\n",
            "[CV] C=0.125, gamma=0.5 ..............................................\n",
            "[CV] ............................... C=0.125, gamma=0.5, total=   0.0s\n",
            "[CV] C=0.125, gamma=1 ................................................\n",
            "[CV] ................................. C=0.125, gamma=1, total=   0.0s\n",
            "[CV] C=0.125, gamma=1 ................................................\n",
            "[CV] ................................. C=0.125, gamma=1, total=   0.0s\n",
            "[CV] C=0.125, gamma=1 ................................................\n",
            "[CV] ................................. C=0.125, gamma=1, total=   0.0s\n",
            "[CV] C=0.125, gamma=2 ................................................\n",
            "[CV] ................................. C=0.125, gamma=2, total=   0.0s\n",
            "[CV] C=0.125, gamma=2 ................................................\n",
            "[CV] ................................. C=0.125, gamma=2, total=   0.0s\n",
            "[CV] C=0.125, gamma=2 ................................................\n",
            "[CV] ................................. C=0.125, gamma=2, total=   0.0s\n",
            "[CV] C=0.125, gamma=4 ................................................\n",
            "[CV] ................................. C=0.125, gamma=4, total=   0.0s\n",
            "[CV] C=0.125, gamma=4 ................................................\n",
            "[CV] ................................. C=0.125, gamma=4, total=   0.0s\n",
            "[CV] C=0.125, gamma=4 ................................................\n",
            "[CV] ................................. C=0.125, gamma=4, total=   0.0s\n",
            "[CV] C=0.125, gamma=8 ................................................\n",
            "[CV] ................................. C=0.125, gamma=8, total=   0.0s\n",
            "[CV] C=0.125, gamma=8 ................................................\n",
            "[CV] ................................. C=0.125, gamma=8, total=   0.0s\n",
            "[CV] C=0.125, gamma=8 ................................................\n",
            "[CV] ................................. C=0.125, gamma=8, total=   0.0s\n",
            "[CV] C=0.125, gamma=16 ...............................................\n",
            "[CV] ................................ C=0.125, gamma=16, total=   0.0s\n",
            "[CV] C=0.125, gamma=16 ...............................................\n",
            "[CV] ................................ C=0.125, gamma=16, total=   0.0s\n",
            "[CV] C=0.125, gamma=16 ...............................................\n",
            "[CV] ................................ C=0.125, gamma=16, total=   0.0s\n",
            "[CV] C=0.125, gamma=32 ...............................................\n",
            "[CV] ................................ C=0.125, gamma=32, total=   0.0s\n",
            "[CV] C=0.125, gamma=32 ...............................................\n",
            "[CV] ................................ C=0.125, gamma=32, total=   0.0s\n",
            "[CV] C=0.125, gamma=32 ...............................................\n",
            "[CV] ................................ C=0.125, gamma=32, total=   0.0s\n",
            "[CV] C=0.125, gamma=64 ...............................................\n",
            "[CV] ................................ C=0.125, gamma=64, total=   0.0s\n",
            "[CV] C=0.125, gamma=64 ...............................................\n",
            "[CV] ................................ C=0.125, gamma=64, total=   0.0s\n",
            "[CV] C=0.125, gamma=64 ...............................................\n",
            "[CV] ................................ C=0.125, gamma=64, total=   0.0s\n",
            "[CV] C=0.25, gamma=0.03125 ...........................................\n",
            "[CV] ............................ C=0.25, gamma=0.03125, total=   0.0s\n",
            "[CV] C=0.25, gamma=0.03125 ...........................................\n",
            "[CV] ............................ C=0.25, gamma=0.03125, total=   0.0s\n",
            "[CV] C=0.25, gamma=0.03125 ...........................................\n",
            "[CV] ............................ C=0.25, gamma=0.03125, total=   0.0s\n",
            "[CV] C=0.25, gamma=0.0625 ............................................\n",
            "[CV] ............................. C=0.25, gamma=0.0625, total=   0.0s\n",
            "[CV] C=0.25, gamma=0.0625 ............................................\n",
            "[CV] ............................. C=0.25, gamma=0.0625, total=   0.0s\n",
            "[CV] C=0.25, gamma=0.0625 ............................................\n",
            "[CV] ............................. C=0.25, gamma=0.0625, total=   0.0s\n",
            "[CV] C=0.25, gamma=0.125 .............................................\n",
            "[CV] .............................. C=0.25, gamma=0.125, total=   0.0s\n",
            "[CV] C=0.25, gamma=0.125 .............................................\n",
            "[CV] .............................. C=0.25, gamma=0.125, total=   0.0s\n",
            "[CV] C=0.25, gamma=0.125 .............................................\n",
            "[CV] .............................. C=0.25, gamma=0.125, total=   0.0s\n",
            "[CV] C=0.25, gamma=0.25 ..............................................\n",
            "[CV] ............................... C=0.25, gamma=0.25, total=   0.0s\n",
            "[CV] C=0.25, gamma=0.25 ..............................................\n",
            "[CV] ............................... C=0.25, gamma=0.25, total=   0.0s\n",
            "[CV] C=0.25, gamma=0.25 ..............................................\n",
            "[CV] ............................... C=0.25, gamma=0.25, total=   0.0s\n",
            "[CV] C=0.25, gamma=0.5 ...............................................\n",
            "[CV] ................................ C=0.25, gamma=0.5, total=   0.0s\n",
            "[CV] C=0.25, gamma=0.5 ...............................................\n",
            "[CV] ................................ C=0.25, gamma=0.5, total=   0.0s\n",
            "[CV] C=0.25, gamma=0.5 ...............................................\n",
            "[CV] ................................ C=0.25, gamma=0.5, total=   0.0s\n",
            "[CV] C=0.25, gamma=1 .................................................\n",
            "[CV] .................................. C=0.25, gamma=1, total=   0.0s\n",
            "[CV] C=0.25, gamma=1 .................................................\n",
            "[CV] .................................. C=0.25, gamma=1, total=   0.0s\n",
            "[CV] C=0.25, gamma=1 .................................................\n",
            "[CV] .................................. C=0.25, gamma=1, total=   0.0s\n",
            "[CV] C=0.25, gamma=2 .................................................\n",
            "[CV] .................................. C=0.25, gamma=2, total=   0.0s\n",
            "[CV] C=0.25, gamma=2 .................................................\n",
            "[CV] .................................. C=0.25, gamma=2, total=   0.0s\n",
            "[CV] C=0.25, gamma=2 .................................................\n",
            "[CV] .................................. C=0.25, gamma=2, total=   0.0s\n",
            "[CV] C=0.25, gamma=4 .................................................\n",
            "[CV] .................................. C=0.25, gamma=4, total=   0.0s\n",
            "[CV] C=0.25, gamma=4 .................................................\n",
            "[CV] .................................. C=0.25, gamma=4, total=   0.0s\n",
            "[CV] C=0.25, gamma=4 .................................................\n",
            "[CV] .................................. C=0.25, gamma=4, total=   0.0s\n",
            "[CV] C=0.25, gamma=8 .................................................\n",
            "[CV] .................................. C=0.25, gamma=8, total=   0.0s\n",
            "[CV] C=0.25, gamma=8 .................................................\n",
            "[CV] .................................. C=0.25, gamma=8, total=   0.0s\n",
            "[CV] C=0.25, gamma=8 .................................................\n",
            "[CV] .................................. C=0.25, gamma=8, total=   0.0s\n",
            "[CV] C=0.25, gamma=16 ................................................\n",
            "[CV] ................................. C=0.25, gamma=16, total=   0.0s\n",
            "[CV] C=0.25, gamma=16 ................................................\n",
            "[CV] ................................. C=0.25, gamma=16, total=   0.0s\n",
            "[CV] C=0.25, gamma=16 ................................................\n",
            "[CV] ................................. C=0.25, gamma=16, total=   0.0s\n",
            "[CV] C=0.25, gamma=32 ................................................\n",
            "[CV] ................................. C=0.25, gamma=32, total=   0.0s\n",
            "[CV] C=0.25, gamma=32 ................................................\n",
            "[CV] ................................. C=0.25, gamma=32, total=   0.0s\n",
            "[CV] C=0.25, gamma=32 ................................................\n",
            "[CV] ................................. C=0.25, gamma=32, total=   0.0s\n",
            "[CV] C=0.25, gamma=64 ................................................\n",
            "[CV] ................................. C=0.25, gamma=64, total=   0.0s\n",
            "[CV] C=0.25, gamma=64 ................................................\n",
            "[CV] ................................. C=0.25, gamma=64, total=   0.0s\n",
            "[CV] C=0.25, gamma=64 ................................................\n",
            "[CV] ................................. C=0.25, gamma=64, total=   0.0s\n",
            "[CV] C=0.5, gamma=0.03125 ............................................\n",
            "[CV] ............................. C=0.5, gamma=0.03125, total=   0.0s\n",
            "[CV] C=0.5, gamma=0.03125 ............................................\n",
            "[CV] ............................. C=0.5, gamma=0.03125, total=   0.0s\n",
            "[CV] C=0.5, gamma=0.03125 ............................................\n",
            "[CV] ............................. C=0.5, gamma=0.03125, total=   0.0s\n",
            "[CV] C=0.5, gamma=0.0625 .............................................\n",
            "[CV] .............................. C=0.5, gamma=0.0625, total=   0.0s\n",
            "[CV] C=0.5, gamma=0.0625 .............................................\n",
            "[CV] .............................. C=0.5, gamma=0.0625, total=   0.0s\n",
            "[CV] C=0.5, gamma=0.0625 .............................................\n",
            "[CV] .............................. C=0.5, gamma=0.0625, total=   0.0s\n",
            "[CV] C=0.5, gamma=0.125 ..............................................\n",
            "[CV] ............................... C=0.5, gamma=0.125, total=   0.0s\n",
            "[CV] C=0.5, gamma=0.125 ..............................................\n",
            "[CV] ............................... C=0.5, gamma=0.125, total=   0.0s\n",
            "[CV] C=0.5, gamma=0.125 ..............................................\n",
            "[CV] ............................... C=0.5, gamma=0.125, total=   0.0s\n",
            "[CV] C=0.5, gamma=0.25 ...............................................\n",
            "[CV] ................................ C=0.5, gamma=0.25, total=   0.0s\n",
            "[CV] C=0.5, gamma=0.25 ...............................................\n",
            "[CV] ................................ C=0.5, gamma=0.25, total=   0.0s\n",
            "[CV] C=0.5, gamma=0.25 ...............................................\n",
            "[CV] ................................ C=0.5, gamma=0.25, total=   0.0s\n",
            "[CV] C=0.5, gamma=0.5 ................................................\n",
            "[CV] ................................. C=0.5, gamma=0.5, total=   0.0s\n",
            "[CV] C=0.5, gamma=0.5 ................................................\n",
            "[CV] ................................. C=0.5, gamma=0.5, total=   0.0s\n",
            "[CV] C=0.5, gamma=0.5 ................................................\n",
            "[CV] ................................. C=0.5, gamma=0.5, total=   0.0s\n",
            "[CV] C=0.5, gamma=1 ..................................................\n",
            "[CV] ................................... C=0.5, gamma=1, total=   0.0s\n",
            "[CV] C=0.5, gamma=1 ..................................................\n",
            "[CV] ................................... C=0.5, gamma=1, total=   0.0s\n",
            "[CV] C=0.5, gamma=1 ..................................................\n",
            "[CV] ................................... C=0.5, gamma=1, total=   0.0s\n",
            "[CV] C=0.5, gamma=2 ..................................................\n",
            "[CV] ................................... C=0.5, gamma=2, total=   0.0s\n",
            "[CV] C=0.5, gamma=2 ..................................................\n",
            "[CV] ................................... C=0.5, gamma=2, total=   0.0s\n",
            "[CV] C=0.5, gamma=2 ..................................................\n",
            "[CV] ................................... C=0.5, gamma=2, total=   0.0s\n",
            "[CV] C=0.5, gamma=4 ..................................................\n",
            "[CV] ................................... C=0.5, gamma=4, total=   0.0s\n",
            "[CV] C=0.5, gamma=4 ..................................................\n",
            "[CV] ................................... C=0.5, gamma=4, total=   0.0s\n",
            "[CV] C=0.5, gamma=4 ..................................................\n",
            "[CV] ................................... C=0.5, gamma=4, total=   0.0s\n",
            "[CV] C=0.5, gamma=8 ..................................................\n",
            "[CV] ................................... C=0.5, gamma=8, total=   0.0s\n",
            "[CV] C=0.5, gamma=8 ..................................................\n",
            "[CV] ................................... C=0.5, gamma=8, total=   0.0s\n",
            "[CV] C=0.5, gamma=8 ..................................................\n",
            "[CV] ................................... C=0.5, gamma=8, total=   0.0s\n",
            "[CV] C=0.5, gamma=16 .................................................\n",
            "[CV] .................................. C=0.5, gamma=16, total=   0.0s\n",
            "[CV] C=0.5, gamma=16 .................................................\n",
            "[CV] .................................. C=0.5, gamma=16, total=   0.0s\n",
            "[CV] C=0.5, gamma=16 .................................................\n",
            "[CV] .................................. C=0.5, gamma=16, total=   0.0s\n",
            "[CV] C=0.5, gamma=32 .................................................\n",
            "[CV] .................................. C=0.5, gamma=32, total=   0.0s\n",
            "[CV] C=0.5, gamma=32 .................................................\n",
            "[CV] .................................. C=0.5, gamma=32, total=   0.0s\n",
            "[CV] C=0.5, gamma=32 .................................................\n",
            "[CV] .................................. C=0.5, gamma=32, total=   0.0s\n",
            "[CV] C=0.5, gamma=64 .................................................\n",
            "[CV] .................................. C=0.5, gamma=64, total=   0.0s\n",
            "[CV] C=0.5, gamma=64 .................................................\n",
            "[CV] .................................. C=0.5, gamma=64, total=   0.0s\n",
            "[CV] C=0.5, gamma=64 .................................................\n",
            "[CV] .................................. C=0.5, gamma=64, total=   0.0s\n",
            "[CV] C=1, gamma=0.03125 ..............................................\n",
            "[CV] ............................... C=1, gamma=0.03125, total=   0.0s\n",
            "[CV] C=1, gamma=0.03125 ..............................................\n",
            "[CV] ............................... C=1, gamma=0.03125, total=   0.0s\n",
            "[CV] C=1, gamma=0.03125 ..............................................\n",
            "[CV] ............................... C=1, gamma=0.03125, total=   0.0s\n",
            "[CV] C=1, gamma=0.0625 ...............................................\n",
            "[CV] ................................ C=1, gamma=0.0625, total=   0.0s\n",
            "[CV] C=1, gamma=0.0625 ...............................................\n",
            "[CV] ................................ C=1, gamma=0.0625, total=   0.0s\n",
            "[CV] C=1, gamma=0.0625 ...............................................\n",
            "[CV] ................................ C=1, gamma=0.0625, total=   0.0s\n",
            "[CV] C=1, gamma=0.125 ................................................\n",
            "[CV] ................................. C=1, gamma=0.125, total=   0.0s\n",
            "[CV] C=1, gamma=0.125 ................................................\n",
            "[CV] ................................. C=1, gamma=0.125, total=   0.0s\n",
            "[CV] C=1, gamma=0.125 ................................................\n",
            "[CV] ................................. C=1, gamma=0.125, total=   0.0s\n",
            "[CV] C=1, gamma=0.25 .................................................\n",
            "[CV] .................................. C=1, gamma=0.25, total=   0.0s\n",
            "[CV] C=1, gamma=0.25 .................................................\n",
            "[CV] .................................. C=1, gamma=0.25, total=   0.0s\n",
            "[CV] C=1, gamma=0.25 .................................................\n",
            "[CV] .................................. C=1, gamma=0.25, total=   0.0s\n",
            "[CV] C=1, gamma=0.5 ..................................................\n",
            "[CV] ................................... C=1, gamma=0.5, total=   0.0s\n",
            "[CV] C=1, gamma=0.5 ..................................................\n",
            "[CV] ................................... C=1, gamma=0.5, total=   0.0s\n",
            "[CV] C=1, gamma=0.5 ..................................................\n",
            "[CV] ................................... C=1, gamma=0.5, total=   0.0s\n",
            "[CV] C=1, gamma=1 ....................................................\n",
            "[CV] ..................................... C=1, gamma=1, total=   0.0s\n",
            "[CV] C=1, gamma=1 ....................................................\n",
            "[CV] ..................................... C=1, gamma=1, total=   0.0s\n",
            "[CV] C=1, gamma=1 ....................................................\n",
            "[CV] ..................................... C=1, gamma=1, total=   0.0s\n",
            "[CV] C=1, gamma=2 ....................................................\n",
            "[CV] ..................................... C=1, gamma=2, total=   0.0s\n",
            "[CV] C=1, gamma=2 ....................................................\n",
            "[CV] ..................................... C=1, gamma=2, total=   0.0s\n",
            "[CV] C=1, gamma=2 ....................................................\n",
            "[CV] ..................................... C=1, gamma=2, total=   0.0s\n",
            "[CV] C=1, gamma=4 ....................................................\n",
            "[CV] ..................................... C=1, gamma=4, total=   0.0s\n",
            "[CV] C=1, gamma=4 ....................................................\n",
            "[CV] ..................................... C=1, gamma=4, total=   0.0s\n",
            "[CV] C=1, gamma=4 ....................................................\n",
            "[CV] ..................................... C=1, gamma=4, total=   0.0s\n",
            "[CV] C=1, gamma=8 ....................................................\n",
            "[CV] ..................................... C=1, gamma=8, total=   0.0s\n",
            "[CV] C=1, gamma=8 ....................................................\n",
            "[CV] ..................................... C=1, gamma=8, total=   0.0s\n",
            "[CV] C=1, gamma=8 ....................................................\n",
            "[CV] ..................................... C=1, gamma=8, total=   0.0s\n",
            "[CV] C=1, gamma=16 ...................................................\n",
            "[CV] .................................... C=1, gamma=16, total=   0.0s\n",
            "[CV] C=1, gamma=16 ...................................................\n",
            "[CV] .................................... C=1, gamma=16, total=   0.0s\n",
            "[CV] C=1, gamma=16 ...................................................\n",
            "[CV] .................................... C=1, gamma=16, total=   0.0s\n",
            "[CV] C=1, gamma=32 ...................................................\n",
            "[CV] .................................... C=1, gamma=32, total=   0.0s\n",
            "[CV] C=1, gamma=32 ...................................................\n",
            "[CV] .................................... C=1, gamma=32, total=   0.0s\n",
            "[CV] C=1, gamma=32 ...................................................\n",
            "[CV] .................................... C=1, gamma=32, total=   0.0s\n",
            "[CV] C=1, gamma=64 ...................................................\n",
            "[CV] .................................... C=1, gamma=64, total=   0.0s\n",
            "[CV] C=1, gamma=64 ...................................................\n",
            "[CV] .................................... C=1, gamma=64, total=   0.0s\n",
            "[CV] C=1, gamma=64 ...................................................\n",
            "[CV] .................................... C=1, gamma=64, total=   0.0s\n",
            "[CV] C=2, gamma=0.03125 ..............................................\n",
            "[CV] ............................... C=2, gamma=0.03125, total=   0.0s\n",
            "[CV] C=2, gamma=0.03125 ..............................................\n",
            "[CV] ............................... C=2, gamma=0.03125, total=   0.0s\n",
            "[CV] C=2, gamma=0.03125 ..............................................\n",
            "[CV] ............................... C=2, gamma=0.03125, total=   0.0s\n",
            "[CV] C=2, gamma=0.0625 ...............................................\n",
            "[CV] ................................ C=2, gamma=0.0625, total=   0.0s\n",
            "[CV] C=2, gamma=0.0625 ...............................................\n",
            "[CV] ................................ C=2, gamma=0.0625, total=   0.0s\n",
            "[CV] C=2, gamma=0.0625 ...............................................\n",
            "[CV] ................................ C=2, gamma=0.0625, total=   0.0s\n",
            "[CV] C=2, gamma=0.125 ................................................\n",
            "[CV] ................................. C=2, gamma=0.125, total=   0.0s\n",
            "[CV] C=2, gamma=0.125 ................................................\n",
            "[CV] ................................. C=2, gamma=0.125, total=   0.0s\n",
            "[CV] C=2, gamma=0.125 ................................................\n",
            "[CV] ................................. C=2, gamma=0.125, total=   0.0s\n",
            "[CV] C=2, gamma=0.25 .................................................\n",
            "[CV] .................................. C=2, gamma=0.25, total=   0.0s\n",
            "[CV] C=2, gamma=0.25 .................................................\n",
            "[CV] .................................. C=2, gamma=0.25, total=   0.0s\n",
            "[CV] C=2, gamma=0.25 .................................................\n",
            "[CV] .................................. C=2, gamma=0.25, total=   0.0s\n",
            "[CV] C=2, gamma=0.5 ..................................................\n",
            "[CV] ................................... C=2, gamma=0.5, total=   0.0s\n",
            "[CV] C=2, gamma=0.5 ..................................................\n",
            "[CV] ................................... C=2, gamma=0.5, total=   0.0s\n",
            "[CV] C=2, gamma=0.5 ..................................................\n",
            "[CV] ................................... C=2, gamma=0.5, total=   0.0s\n",
            "[CV] C=2, gamma=1 ....................................................\n",
            "[CV] ..................................... C=2, gamma=1, total=   0.0s\n",
            "[CV] C=2, gamma=1 ....................................................\n",
            "[CV] ..................................... C=2, gamma=1, total=   0.0s\n",
            "[CV] C=2, gamma=1 ....................................................\n",
            "[CV] ..................................... C=2, gamma=1, total=   0.0s\n",
            "[CV] C=2, gamma=2 ....................................................\n",
            "[CV] ..................................... C=2, gamma=2, total=   0.0s\n",
            "[CV] C=2, gamma=2 ....................................................\n",
            "[CV] ..................................... C=2, gamma=2, total=   0.0s\n",
            "[CV] C=2, gamma=2 ....................................................\n",
            "[CV] ..................................... C=2, gamma=2, total=   0.0s\n",
            "[CV] C=2, gamma=4 ....................................................\n",
            "[CV] ..................................... C=2, gamma=4, total=   0.0s\n",
            "[CV] C=2, gamma=4 ....................................................\n",
            "[CV] ..................................... C=2, gamma=4, total=   0.0s\n",
            "[CV] C=2, gamma=4 ....................................................\n",
            "[CV] ..................................... C=2, gamma=4, total=   0.0s\n",
            "[CV] C=2, gamma=8 ....................................................\n",
            "[CV] ..................................... C=2, gamma=8, total=   0.0s\n",
            "[CV] C=2, gamma=8 ....................................................\n",
            "[CV] ..................................... C=2, gamma=8, total=   0.0s\n",
            "[CV] C=2, gamma=8 ....................................................\n",
            "[CV] ..................................... C=2, gamma=8, total=   0.0s\n",
            "[CV] C=2, gamma=16 ...................................................\n",
            "[CV] .................................... C=2, gamma=16, total=   0.0s\n",
            "[CV] C=2, gamma=16 ...................................................\n",
            "[CV] .................................... C=2, gamma=16, total=   0.0s\n",
            "[CV] C=2, gamma=16 ...................................................\n",
            "[CV] .................................... C=2, gamma=16, total=   0.0s\n",
            "[CV] C=2, gamma=32 ...................................................\n",
            "[CV] .................................... C=2, gamma=32, total=   0.0s\n",
            "[CV] C=2, gamma=32 ...................................................\n",
            "[CV] .................................... C=2, gamma=32, total=   0.0s\n",
            "[CV] C=2, gamma=32 ...................................................\n",
            "[CV] .................................... C=2, gamma=32, total=   0.0s\n",
            "[CV] C=2, gamma=64 ...................................................\n",
            "[CV] .................................... C=2, gamma=64, total=   0.0s\n",
            "[CV] C=2, gamma=64 ...................................................\n",
            "[CV] .................................... C=2, gamma=64, total=   0.0s\n",
            "[CV] C=2, gamma=64 ...................................................\n",
            "[CV] .................................... C=2, gamma=64, total=   0.0s\n",
            "[CV] C=4, gamma=0.03125 ..............................................\n",
            "[CV] ............................... C=4, gamma=0.03125, total=   0.0s\n",
            "[CV] C=4, gamma=0.03125 ..............................................\n",
            "[CV] ............................... C=4, gamma=0.03125, total=   0.0s\n",
            "[CV] C=4, gamma=0.03125 ..............................................\n",
            "[CV] ............................... C=4, gamma=0.03125, total=   0.0s\n",
            "[CV] C=4, gamma=0.0625 ...............................................\n",
            "[CV] ................................ C=4, gamma=0.0625, total=   0.0s\n",
            "[CV] C=4, gamma=0.0625 ...............................................\n",
            "[CV] ................................ C=4, gamma=0.0625, total=   0.0s\n",
            "[CV] C=4, gamma=0.0625 ...............................................\n",
            "[CV] ................................ C=4, gamma=0.0625, total=   0.0s\n",
            "[CV] C=4, gamma=0.125 ................................................\n",
            "[CV] ................................. C=4, gamma=0.125, total=   0.0s\n",
            "[CV] C=4, gamma=0.125 ................................................\n",
            "[CV] ................................. C=4, gamma=0.125, total=   0.0s\n",
            "[CV] C=4, gamma=0.125 ................................................\n",
            "[CV] ................................. C=4, gamma=0.125, total=   0.0s\n",
            "[CV] C=4, gamma=0.25 .................................................\n",
            "[CV] .................................. C=4, gamma=0.25, total=   0.0s\n",
            "[CV] C=4, gamma=0.25 .................................................\n",
            "[CV] .................................. C=4, gamma=0.25, total=   0.0s\n",
            "[CV] C=4, gamma=0.25 .................................................\n",
            "[CV] .................................. C=4, gamma=0.25, total=   0.0s\n",
            "[CV] C=4, gamma=0.5 ..................................................\n",
            "[CV] ................................... C=4, gamma=0.5, total=   0.0s\n",
            "[CV] C=4, gamma=0.5 ..................................................\n",
            "[CV] ................................... C=4, gamma=0.5, total=   0.0s\n",
            "[CV] C=4, gamma=0.5 ..................................................\n",
            "[CV] ................................... C=4, gamma=0.5, total=   0.0s\n",
            "[CV] C=4, gamma=1 ....................................................\n",
            "[CV] ..................................... C=4, gamma=1, total=   0.0s\n",
            "[CV] C=4, gamma=1 ....................................................\n",
            "[CV] ..................................... C=4, gamma=1, total=   0.0s\n",
            "[CV] C=4, gamma=1 ....................................................\n",
            "[CV] ..................................... C=4, gamma=1, total=   0.0s\n",
            "[CV] C=4, gamma=2 ....................................................\n",
            "[CV] ..................................... C=4, gamma=2, total=   0.0s\n",
            "[CV] C=4, gamma=2 ....................................................\n",
            "[CV] ..................................... C=4, gamma=2, total=   0.0s\n",
            "[CV] C=4, gamma=2 ....................................................\n",
            "[CV] ..................................... C=4, gamma=2, total=   0.0s\n",
            "[CV] C=4, gamma=4 ....................................................\n",
            "[CV] ..................................... C=4, gamma=4, total=   0.0s\n",
            "[CV] C=4, gamma=4 ....................................................\n",
            "[CV] ..................................... C=4, gamma=4, total=   0.0s\n",
            "[CV] C=4, gamma=4 ....................................................\n",
            "[CV] ..................................... C=4, gamma=4, total=   0.0s\n",
            "[CV] C=4, gamma=8 ....................................................\n",
            "[CV] ..................................... C=4, gamma=8, total=   0.0s\n",
            "[CV] C=4, gamma=8 ....................................................\n",
            "[CV] ..................................... C=4, gamma=8, total=   0.0s\n",
            "[CV] C=4, gamma=8 ....................................................\n",
            "[CV] ..................................... C=4, gamma=8, total=   0.0s\n",
            "[CV] C=4, gamma=16 ...................................................\n",
            "[CV] .................................... C=4, gamma=16, total=   0.0s\n",
            "[CV] C=4, gamma=16 ...................................................\n",
            "[CV] .................................... C=4, gamma=16, total=   0.0s\n",
            "[CV] C=4, gamma=16 ...................................................\n",
            "[CV] .................................... C=4, gamma=16, total=   0.0s\n",
            "[CV] C=4, gamma=32 ...................................................\n",
            "[CV] .................................... C=4, gamma=32, total=   0.0s\n",
            "[CV] C=4, gamma=32 ...................................................\n",
            "[CV] .................................... C=4, gamma=32, total=   0.0s\n",
            "[CV] C=4, gamma=32 ...................................................\n",
            "[CV] .................................... C=4, gamma=32, total=   0.0s\n",
            "[CV] C=4, gamma=64 ...................................................\n",
            "[CV] .................................... C=4, gamma=64, total=   0.0s\n",
            "[CV] C=4, gamma=64 ...................................................\n",
            "[CV] .................................... C=4, gamma=64, total=   0.0s\n",
            "[CV] C=4, gamma=64 ...................................................\n",
            "[CV] .................................... C=4, gamma=64, total=   0.0s\n",
            "[CV] C=8, gamma=0.03125 ..............................................\n",
            "[CV] ............................... C=8, gamma=0.03125, total=   0.0s\n",
            "[CV] C=8, gamma=0.03125 ..............................................\n",
            "[CV] ............................... C=8, gamma=0.03125, total=   0.0s\n",
            "[CV] C=8, gamma=0.03125 ..............................................\n",
            "[CV] ............................... C=8, gamma=0.03125, total=   0.0s\n",
            "[CV] C=8, gamma=0.0625 ...............................................\n",
            "[CV] ................................ C=8, gamma=0.0625, total=   0.0s\n",
            "[CV] C=8, gamma=0.0625 ...............................................\n",
            "[CV] ................................ C=8, gamma=0.0625, total=   0.0s\n",
            "[CV] C=8, gamma=0.0625 ...............................................\n",
            "[CV] ................................ C=8, gamma=0.0625, total=   0.0s\n",
            "[CV] C=8, gamma=0.125 ................................................\n",
            "[CV] ................................. C=8, gamma=0.125, total=   0.0s\n",
            "[CV] C=8, gamma=0.125 ................................................\n",
            "[CV] ................................. C=8, gamma=0.125, total=   0.0s\n",
            "[CV] C=8, gamma=0.125 ................................................\n",
            "[CV] ................................. C=8, gamma=0.125, total=   0.0s\n",
            "[CV] C=8, gamma=0.25 .................................................\n",
            "[CV] .................................. C=8, gamma=0.25, total=   0.0s\n",
            "[CV] C=8, gamma=0.25 .................................................\n",
            "[CV] .................................. C=8, gamma=0.25, total=   0.0s\n",
            "[CV] C=8, gamma=0.25 .................................................\n",
            "[CV] .................................. C=8, gamma=0.25, total=   0.0s\n",
            "[CV] C=8, gamma=0.5 ..................................................\n",
            "[CV] ................................... C=8, gamma=0.5, total=   0.0s\n",
            "[CV] C=8, gamma=0.5 ..................................................\n",
            "[CV] ................................... C=8, gamma=0.5, total=   0.0s\n",
            "[CV] C=8, gamma=0.5 ..................................................\n",
            "[CV] ................................... C=8, gamma=0.5, total=   0.0s\n",
            "[CV] C=8, gamma=1 ....................................................\n",
            "[CV] ..................................... C=8, gamma=1, total=   0.0s\n",
            "[CV] C=8, gamma=1 ....................................................\n",
            "[CV] ..................................... C=8, gamma=1, total=   0.0s\n",
            "[CV] C=8, gamma=1 ....................................................\n",
            "[CV] ..................................... C=8, gamma=1, total=   0.0s\n",
            "[CV] C=8, gamma=2 ....................................................\n",
            "[CV] ..................................... C=8, gamma=2, total=   0.0s\n",
            "[CV] C=8, gamma=2 ....................................................\n",
            "[CV] ..................................... C=8, gamma=2, total=   0.0s\n",
            "[CV] C=8, gamma=2 ....................................................\n",
            "[CV] ..................................... C=8, gamma=2, total=   0.0s\n",
            "[CV] C=8, gamma=4 ....................................................\n",
            "[CV] ..................................... C=8, gamma=4, total=   0.0s\n",
            "[CV] C=8, gamma=4 ....................................................\n",
            "[CV] ..................................... C=8, gamma=4, total=   0.0s\n",
            "[CV] C=8, gamma=4 ....................................................\n",
            "[CV] ..................................... C=8, gamma=4, total=   0.0s\n",
            "[CV] C=8, gamma=8 ....................................................\n",
            "[CV] ..................................... C=8, gamma=8, total=   0.0s\n",
            "[CV] C=8, gamma=8 ....................................................\n",
            "[CV] ..................................... C=8, gamma=8, total=   0.0s\n",
            "[CV] C=8, gamma=8 ....................................................\n",
            "[CV] ..................................... C=8, gamma=8, total=   0.0s\n",
            "[CV] C=8, gamma=16 ...................................................\n",
            "[CV] .................................... C=8, gamma=16, total=   0.0s\n",
            "[CV] C=8, gamma=16 ...................................................\n",
            "[CV] .................................... C=8, gamma=16, total=   0.0s\n",
            "[CV] C=8, gamma=16 ...................................................\n",
            "[CV] .................................... C=8, gamma=16, total=   0.0s\n",
            "[CV] C=8, gamma=32 ...................................................\n",
            "[CV] .................................... C=8, gamma=32, total=   0.0s\n",
            "[CV] C=8, gamma=32 ...................................................\n",
            "[CV] .................................... C=8, gamma=32, total=   0.0s\n",
            "[CV] C=8, gamma=32 ...................................................\n",
            "[CV] .................................... C=8, gamma=32, total=   0.0s\n",
            "[CV] C=8, gamma=64 ...................................................\n",
            "[CV] .................................... C=8, gamma=64, total=   0.0s\n",
            "[CV] C=8, gamma=64 ...................................................\n",
            "[CV] .................................... C=8, gamma=64, total=   0.0s\n",
            "[CV] C=8, gamma=64 ...................................................\n",
            "[CV] .................................... C=8, gamma=64, total=   0.0s\n",
            "[CV] C=16, gamma=0.03125 .............................................\n",
            "[CV] .............................. C=16, gamma=0.03125, total=   0.0s\n",
            "[CV] C=16, gamma=0.03125 .............................................\n",
            "[CV] .............................. C=16, gamma=0.03125, total=   0.0s\n",
            "[CV] C=16, gamma=0.03125 .............................................\n",
            "[CV] .............................. C=16, gamma=0.03125, total=   0.0s\n",
            "[CV] C=16, gamma=0.0625 ..............................................\n",
            "[CV] ............................... C=16, gamma=0.0625, total=   0.0s\n",
            "[CV] C=16, gamma=0.0625 ..............................................\n",
            "[CV] ............................... C=16, gamma=0.0625, total=   0.0s\n",
            "[CV] C=16, gamma=0.0625 ..............................................\n",
            "[CV] ............................... C=16, gamma=0.0625, total=   0.0s\n",
            "[CV] C=16, gamma=0.125 ...............................................\n",
            "[CV] ................................ C=16, gamma=0.125, total=   0.0s\n",
            "[CV] C=16, gamma=0.125 ...............................................\n",
            "[CV] ................................ C=16, gamma=0.125, total=   0.0s\n",
            "[CV] C=16, gamma=0.125 ...............................................\n",
            "[CV] ................................ C=16, gamma=0.125, total=   0.0s\n",
            "[CV] C=16, gamma=0.25 ................................................\n",
            "[CV] ................................. C=16, gamma=0.25, total=   0.0s\n",
            "[CV] C=16, gamma=0.25 ................................................\n",
            "[CV] ................................. C=16, gamma=0.25, total=   0.0s\n",
            "[CV] C=16, gamma=0.25 ................................................\n",
            "[CV] ................................. C=16, gamma=0.25, total=   0.0s\n",
            "[CV] C=16, gamma=0.5 .................................................\n",
            "[CV] .................................. C=16, gamma=0.5, total=   0.0s\n",
            "[CV] C=16, gamma=0.5 .................................................\n",
            "[CV] .................................. C=16, gamma=0.5, total=   0.0s\n",
            "[CV] C=16, gamma=0.5 .................................................\n",
            "[CV] .................................. C=16, gamma=0.5, total=   0.0s\n",
            "[CV] C=16, gamma=1 ...................................................\n",
            "[CV] .................................... C=16, gamma=1, total=   0.0s\n",
            "[CV] C=16, gamma=1 ...................................................\n",
            "[CV] .................................... C=16, gamma=1, total=   0.0s\n",
            "[CV] C=16, gamma=1 ...................................................\n",
            "[CV] .................................... C=16, gamma=1, total=   0.0s\n",
            "[CV] C=16, gamma=2 ...................................................\n",
            "[CV] .................................... C=16, gamma=2, total=   0.0s\n",
            "[CV] C=16, gamma=2 ...................................................\n",
            "[CV] .................................... C=16, gamma=2, total=   0.0s\n",
            "[CV] C=16, gamma=2 ...................................................\n",
            "[CV] .................................... C=16, gamma=2, total=   0.0s\n",
            "[CV] C=16, gamma=4 ...................................................\n",
            "[CV] .................................... C=16, gamma=4, total=   0.0s\n",
            "[CV] C=16, gamma=4 ...................................................\n",
            "[CV] .................................... C=16, gamma=4, total=   0.0s\n",
            "[CV] C=16, gamma=4 ...................................................\n",
            "[CV] .................................... C=16, gamma=4, total=   0.0s\n",
            "[CV] C=16, gamma=8 ...................................................\n",
            "[CV] .................................... C=16, gamma=8, total=   0.0s\n",
            "[CV] C=16, gamma=8 ...................................................\n",
            "[CV] .................................... C=16, gamma=8, total=   0.0s\n",
            "[CV] C=16, gamma=8 ...................................................\n",
            "[CV] .................................... C=16, gamma=8, total=   0.0s\n",
            "[CV] C=16, gamma=16 ..................................................\n",
            "[CV] ................................... C=16, gamma=16, total=   0.0s\n",
            "[CV] C=16, gamma=16 ..................................................\n",
            "[CV] ................................... C=16, gamma=16, total=   0.0s\n",
            "[CV] C=16, gamma=16 ..................................................\n",
            "[CV] ................................... C=16, gamma=16, total=   0.0s\n",
            "[CV] C=16, gamma=32 ..................................................\n",
            "[CV] ................................... C=16, gamma=32, total=   0.0s\n",
            "[CV] C=16, gamma=32 ..................................................\n",
            "[CV] ................................... C=16, gamma=32, total=   0.0s\n",
            "[CV] C=16, gamma=32 ..................................................\n",
            "[CV] ................................... C=16, gamma=32, total=   0.0s\n",
            "[CV] C=16, gamma=64 ..................................................\n",
            "[CV] ................................... C=16, gamma=64, total=   0.0s\n",
            "[CV] C=16, gamma=64 ..................................................\n",
            "[CV] ................................... C=16, gamma=64, total=   0.0s\n",
            "[CV] C=16, gamma=64 ..................................................\n",
            "[CV] ................................... C=16, gamma=64, total=   0.0s\n",
            "[CV] C=32, gamma=0.03125 .............................................\n",
            "[CV] .............................. C=32, gamma=0.03125, total=   0.0s\n",
            "[CV] C=32, gamma=0.03125 .............................................\n",
            "[CV] .............................. C=32, gamma=0.03125, total=   0.0s\n",
            "[CV] C=32, gamma=0.03125 .............................................\n",
            "[CV] .............................. C=32, gamma=0.03125, total=   0.0s\n",
            "[CV] C=32, gamma=0.0625 ..............................................\n",
            "[CV] ............................... C=32, gamma=0.0625, total=   0.0s\n",
            "[CV] C=32, gamma=0.0625 ..............................................\n",
            "[CV] ............................... C=32, gamma=0.0625, total=   0.0s\n",
            "[CV] C=32, gamma=0.0625 ..............................................\n",
            "[CV] ............................... C=32, gamma=0.0625, total=   0.0s\n",
            "[CV] C=32, gamma=0.125 ...............................................\n",
            "[CV] ................................ C=32, gamma=0.125, total=   0.0s\n",
            "[CV] C=32, gamma=0.125 ...............................................\n",
            "[CV] ................................ C=32, gamma=0.125, total=   0.0s\n",
            "[CV] C=32, gamma=0.125 ...............................................\n",
            "[CV] ................................ C=32, gamma=0.125, total=   0.0s\n",
            "[CV] C=32, gamma=0.25 ................................................\n",
            "[CV] ................................. C=32, gamma=0.25, total=   0.0s\n",
            "[CV] C=32, gamma=0.25 ................................................\n",
            "[CV] ................................. C=32, gamma=0.25, total=   0.0s\n",
            "[CV] C=32, gamma=0.25 ................................................\n",
            "[CV] ................................. C=32, gamma=0.25, total=   0.0s\n",
            "[CV] C=32, gamma=0.5 .................................................\n",
            "[CV] .................................. C=32, gamma=0.5, total=   0.0s\n",
            "[CV] C=32, gamma=0.5 .................................................\n",
            "[CV] .................................. C=32, gamma=0.5, total=   0.0s\n",
            "[CV] C=32, gamma=0.5 .................................................\n",
            "[CV] .................................. C=32, gamma=0.5, total=   0.0s\n",
            "[CV] C=32, gamma=1 ...................................................\n",
            "[CV] .................................... C=32, gamma=1, total=   0.0s\n",
            "[CV] C=32, gamma=1 ...................................................\n",
            "[CV] .................................... C=32, gamma=1, total=   0.0s\n",
            "[CV] C=32, gamma=1 ...................................................\n",
            "[CV] .................................... C=32, gamma=1, total=   0.0s\n",
            "[CV] C=32, gamma=2 ...................................................\n",
            "[CV] .................................... C=32, gamma=2, total=   0.0s\n",
            "[CV] C=32, gamma=2 ...................................................\n",
            "[CV] .................................... C=32, gamma=2, total=   0.0s\n",
            "[CV] C=32, gamma=2 ...................................................\n",
            "[CV] .................................... C=32, gamma=2, total=   0.0s\n",
            "[CV] C=32, gamma=4 ...................................................\n",
            "[CV] .................................... C=32, gamma=4, total=   0.0s\n",
            "[CV] C=32, gamma=4 ...................................................\n",
            "[CV] .................................... C=32, gamma=4, total=   0.0s\n",
            "[CV] C=32, gamma=4 ...................................................\n",
            "[CV] .................................... C=32, gamma=4, total=   0.0s\n",
            "[CV] C=32, gamma=8 ...................................................\n",
            "[CV] .................................... C=32, gamma=8, total=   0.0s\n",
            "[CV] C=32, gamma=8 ...................................................\n",
            "[CV] .................................... C=32, gamma=8, total=   0.0s\n",
            "[CV] C=32, gamma=8 ...................................................\n",
            "[CV] .................................... C=32, gamma=8, total=   0.0s\n",
            "[CV] C=32, gamma=16 ..................................................\n",
            "[CV] ................................... C=32, gamma=16, total=   0.0s\n",
            "[CV] C=32, gamma=16 ..................................................\n",
            "[CV] ................................... C=32, gamma=16, total=   0.0s\n",
            "[CV] C=32, gamma=16 ..................................................\n",
            "[CV] ................................... C=32, gamma=16, total=   0.0s\n",
            "[CV] C=32, gamma=32 ..................................................\n",
            "[CV] ................................... C=32, gamma=32, total=   0.0s\n",
            "[CV] C=32, gamma=32 ..................................................\n",
            "[CV] ................................... C=32, gamma=32, total=   0.0s\n",
            "[CV] C=32, gamma=32 ..................................................\n",
            "[CV] ................................... C=32, gamma=32, total=   0.0s\n",
            "[CV] C=32, gamma=64 ..................................................\n",
            "[CV] ................................... C=32, gamma=64, total=   0.0s\n",
            "[CV] C=32, gamma=64 ..................................................\n",
            "[CV] ................................... C=32, gamma=64, total=   0.0s\n",
            "[CV] C=32, gamma=64 ..................................................\n",
            "[CV] ................................... C=32, gamma=64, total=   0.0s\n",
            "[CV] C=64, gamma=0.03125 .............................................\n",
            "[CV] .............................. C=64, gamma=0.03125, total=   0.0s\n",
            "[CV] C=64, gamma=0.03125 .............................................\n",
            "[CV] .............................. C=64, gamma=0.03125, total=   0.0s\n",
            "[CV] C=64, gamma=0.03125 .............................................\n",
            "[CV] .............................. C=64, gamma=0.03125, total=   0.0s\n",
            "[CV] C=64, gamma=0.0625 ..............................................\n",
            "[CV] ............................... C=64, gamma=0.0625, total=   0.0s\n",
            "[CV] C=64, gamma=0.0625 ..............................................\n",
            "[CV] ............................... C=64, gamma=0.0625, total=   0.0s\n",
            "[CV] C=64, gamma=0.0625 ..............................................\n",
            "[CV] ............................... C=64, gamma=0.0625, total=   0.0s\n",
            "[CV] C=64, gamma=0.125 ...............................................\n",
            "[CV] ................................ C=64, gamma=0.125, total=   0.0s\n",
            "[CV] C=64, gamma=0.125 ...............................................\n",
            "[CV] ................................ C=64, gamma=0.125, total=   0.0s\n",
            "[CV] C=64, gamma=0.125 ...............................................\n",
            "[CV] ................................ C=64, gamma=0.125, total=   0.0s\n",
            "[CV] C=64, gamma=0.25 ................................................\n",
            "[CV] ................................. C=64, gamma=0.25, total=   0.0s\n",
            "[CV] C=64, gamma=0.25 ................................................\n",
            "[CV] ................................. C=64, gamma=0.25, total=   0.0s\n",
            "[CV] C=64, gamma=0.25 ................................................\n",
            "[CV] ................................. C=64, gamma=0.25, total=   0.0s\n",
            "[CV] C=64, gamma=0.5 .................................................\n",
            "[CV] .................................. C=64, gamma=0.5, total=   0.0s\n",
            "[CV] C=64, gamma=0.5 .................................................\n",
            "[CV] .................................. C=64, gamma=0.5, total=   0.0s\n",
            "[CV] C=64, gamma=0.5 .................................................\n",
            "[CV] .................................. C=64, gamma=0.5, total=   0.0s\n",
            "[CV] C=64, gamma=1 ...................................................\n",
            "[CV] .................................... C=64, gamma=1, total=   0.0s\n",
            "[CV] C=64, gamma=1 ...................................................\n",
            "[CV] .................................... C=64, gamma=1, total=   0.0s\n",
            "[CV] C=64, gamma=1 ...................................................\n",
            "[CV] .................................... C=64, gamma=1, total=   0.0s\n",
            "[CV] C=64, gamma=2 ...................................................\n",
            "[CV] .................................... C=64, gamma=2, total=   0.0s\n",
            "[CV] C=64, gamma=2 ...................................................\n",
            "[CV] .................................... C=64, gamma=2, total=   0.0s\n",
            "[CV] C=64, gamma=2 ...................................................\n",
            "[CV] .................................... C=64, gamma=2, total=   0.0s\n",
            "[CV] C=64, gamma=4 ...................................................\n",
            "[CV] .................................... C=64, gamma=4, total=   0.0s\n",
            "[CV] C=64, gamma=4 ...................................................\n",
            "[CV] .................................... C=64, gamma=4, total=   0.0s\n",
            "[CV] C=64, gamma=4 ...................................................\n",
            "[CV] .................................... C=64, gamma=4, total=   0.0s\n",
            "[CV] C=64, gamma=8 ...................................................\n",
            "[CV] .................................... C=64, gamma=8, total=   0.0s\n",
            "[CV] C=64, gamma=8 ...................................................\n",
            "[CV] .................................... C=64, gamma=8, total=   0.0s\n",
            "[CV] C=64, gamma=8 ...................................................\n",
            "[CV] .................................... C=64, gamma=8, total=   0.0s\n",
            "[CV] C=64, gamma=16 ..................................................\n",
            "[CV] ................................... C=64, gamma=16, total=   0.0s\n",
            "[CV] C=64, gamma=16 ..................................................\n",
            "[CV] ................................... C=64, gamma=16, total=   0.0s\n",
            "[CV] C=64, gamma=16 ..................................................\n",
            "[CV] ................................... C=64, gamma=16, total=   0.0s\n",
            "[CV] C=64, gamma=32 ..................................................\n",
            "[CV] ................................... C=64, gamma=32, total=   0.0s\n",
            "[CV] C=64, gamma=32 ..................................................\n",
            "[CV] ................................... C=64, gamma=32, total=   0.0s\n",
            "[CV] C=64, gamma=32 ..................................................\n",
            "[CV] ................................... C=64, gamma=32, total=   0.0s\n",
            "[CV] C=64, gamma=64 ..................................................\n",
            "[CV] ................................... C=64, gamma=64, total=   0.0s\n",
            "[CV] C=64, gamma=64 ..................................................\n",
            "[CV] ................................... C=64, gamma=64, total=   0.0s\n",
            "[CV] C=64, gamma=64 ..................................................\n",
            "[CV] ................................... C=64, gamma=64, total=   0.0s\n"
          ],
          "name": "stdout"
        },
        {
          "output_type": "stream",
          "text": [
            "[Parallel(n_jobs=1)]: Done 432 out of 432 | elapsed:    0.9s finished\n",
            "/usr/local/lib/python3.6/dist-packages/sklearn/model_selection/_search.py:841: DeprecationWarning: The default of the `iid` parameter will change from True to False in version 0.22 and will be removed in 0.24. This will change numeric results when test-set sizes are unequal.\n",
            "  DeprecationWarning)\n"
          ],
          "name": "stderr"
        },
        {
          "output_type": "execute_result",
          "data": {
            "text/plain": [
              "GridSearchCV(cv='warn', error_score='raise-deprecating',\n",
              "       estimator=SVC(C=1.0, cache_size=200, class_weight=None, coef0=0.0,\n",
              "  decision_function_shape='ovr', degree=3, gamma='auto_deprecated',\n",
              "  kernel='rbf', max_iter=-1, probability=False, random_state=None,\n",
              "  shrinking=True, tol=0.001, verbose=False),\n",
              "       fit_params=None, iid='warn', n_jobs=None,\n",
              "       param_grid={'C': [0.03125, 0.0625, 0.125, 0.25, 0.5, 1, 2, 4, 8, 16, 32, 64], 'gamma': [0.03125, 0.0625, 0.125, 0.25, 0.5, 1, 2, 4, 8, 16, 32, 64]},\n",
              "       pre_dispatch='2*n_jobs', refit=True, return_train_score=True,\n",
              "       scoring=None, verbose=2)"
            ]
          },
          "metadata": {
            "tags": []
          },
          "execution_count": 45
        }
      ]
    },
    {
      "cell_type": "markdown",
      "metadata": {
        "id": "xWSfS_Hg4mdT"
      },
      "source": [
        "Los valores promedio de accuracy para cada combinación de hiperparámetros se pueden extraer usando `GridSearchCV.cv_results_`. Convertimos ese diccionario a un DataFrame de pandas."
      ]
    },
    {
      "cell_type": "code",
      "metadata": {
        "id": "4CbfZItT4mdU",
        "outputId": "b7a4a3c3-e59f-4d16-c33a-731e32e26b73",
        "colab": {
          "base_uri": "https://localhost:8080/",
          "height": 4569
        }
      },
      "source": [
        "import pandas as pd\n",
        "\n",
        "cv_results = pd.DataFrame(clf.cv_results_)\n",
        "cv_results"
      ],
      "execution_count": null,
      "outputs": [
        {
          "output_type": "execute_result",
          "data": {
            "text/html": [
              "<div>\n",
              "<style scoped>\n",
              "    .dataframe tbody tr th:only-of-type {\n",
              "        vertical-align: middle;\n",
              "    }\n",
              "\n",
              "    .dataframe tbody tr th {\n",
              "        vertical-align: top;\n",
              "    }\n",
              "\n",
              "    .dataframe thead th {\n",
              "        text-align: right;\n",
              "    }\n",
              "</style>\n",
              "<table border=\"1\" class=\"dataframe\">\n",
              "  <thead>\n",
              "    <tr style=\"text-align: right;\">\n",
              "      <th></th>\n",
              "      <th>mean_fit_time</th>\n",
              "      <th>std_fit_time</th>\n",
              "      <th>mean_score_time</th>\n",
              "      <th>std_score_time</th>\n",
              "      <th>param_C</th>\n",
              "      <th>param_gamma</th>\n",
              "      <th>params</th>\n",
              "      <th>split0_test_score</th>\n",
              "      <th>split1_test_score</th>\n",
              "      <th>split2_test_score</th>\n",
              "      <th>mean_test_score</th>\n",
              "      <th>std_test_score</th>\n",
              "      <th>rank_test_score</th>\n",
              "      <th>split0_train_score</th>\n",
              "      <th>split1_train_score</th>\n",
              "      <th>split2_train_score</th>\n",
              "      <th>mean_train_score</th>\n",
              "      <th>std_train_score</th>\n",
              "    </tr>\n",
              "  </thead>\n",
              "  <tbody>\n",
              "    <tr>\n",
              "      <th>0</th>\n",
              "      <td>0.001707</td>\n",
              "      <td>0.001333</td>\n",
              "      <td>0.000374</td>\n",
              "      <td>0.000050</td>\n",
              "      <td>0.03125</td>\n",
              "      <td>0.03125</td>\n",
              "      <td>{'C': 0.03125, 'gamma': 0.03125}</td>\n",
              "      <td>0.694444</td>\n",
              "      <td>0.342857</td>\n",
              "      <td>0.352941</td>\n",
              "      <td>0.466667</td>\n",
              "      <td>0.164578</td>\n",
              "      <td>127</td>\n",
              "      <td>0.695652</td>\n",
              "      <td>0.357143</td>\n",
              "      <td>0.352113</td>\n",
              "      <td>0.468303</td>\n",
              "      <td>0.160774</td>\n",
              "    </tr>\n",
              "    <tr>\n",
              "      <th>1</th>\n",
              "      <td>0.000834</td>\n",
              "      <td>0.000166</td>\n",
              "      <td>0.000325</td>\n",
              "      <td>0.000007</td>\n",
              "      <td>0.03125</td>\n",
              "      <td>0.0625</td>\n",
              "      <td>{'C': 0.03125, 'gamma': 0.0625}</td>\n",
              "      <td>0.694444</td>\n",
              "      <td>0.685714</td>\n",
              "      <td>0.705882</td>\n",
              "      <td>0.695238</td>\n",
              "      <td>0.008194</td>\n",
              "      <td>105</td>\n",
              "      <td>0.695652</td>\n",
              "      <td>0.700000</td>\n",
              "      <td>0.690141</td>\n",
              "      <td>0.695264</td>\n",
              "      <td>0.004034</td>\n",
              "    </tr>\n",
              "    <tr>\n",
              "      <th>2</th>\n",
              "      <td>0.000705</td>\n",
              "      <td>0.000161</td>\n",
              "      <td>0.000329</td>\n",
              "      <td>0.000013</td>\n",
              "      <td>0.03125</td>\n",
              "      <td>0.125</td>\n",
              "      <td>{'C': 0.03125, 'gamma': 0.125}</td>\n",
              "      <td>0.694444</td>\n",
              "      <td>0.685714</td>\n",
              "      <td>0.705882</td>\n",
              "      <td>0.695238</td>\n",
              "      <td>0.008194</td>\n",
              "      <td>105</td>\n",
              "      <td>0.695652</td>\n",
              "      <td>0.700000</td>\n",
              "      <td>0.690141</td>\n",
              "      <td>0.695264</td>\n",
              "      <td>0.004034</td>\n",
              "    </tr>\n",
              "    <tr>\n",
              "      <th>3</th>\n",
              "      <td>0.000685</td>\n",
              "      <td>0.000096</td>\n",
              "      <td>0.000313</td>\n",
              "      <td>0.000015</td>\n",
              "      <td>0.03125</td>\n",
              "      <td>0.25</td>\n",
              "      <td>{'C': 0.03125, 'gamma': 0.25}</td>\n",
              "      <td>0.694444</td>\n",
              "      <td>0.685714</td>\n",
              "      <td>0.705882</td>\n",
              "      <td>0.695238</td>\n",
              "      <td>0.008194</td>\n",
              "      <td>105</td>\n",
              "      <td>0.695652</td>\n",
              "      <td>0.700000</td>\n",
              "      <td>0.690141</td>\n",
              "      <td>0.695264</td>\n",
              "      <td>0.004034</td>\n",
              "    </tr>\n",
              "    <tr>\n",
              "      <th>4</th>\n",
              "      <td>0.000695</td>\n",
              "      <td>0.000171</td>\n",
              "      <td>0.000313</td>\n",
              "      <td>0.000012</td>\n",
              "      <td>0.03125</td>\n",
              "      <td>0.5</td>\n",
              "      <td>{'C': 0.03125, 'gamma': 0.5}</td>\n",
              "      <td>0.694444</td>\n",
              "      <td>0.600000</td>\n",
              "      <td>0.647059</td>\n",
              "      <td>0.647619</td>\n",
              "      <td>0.038829</td>\n",
              "      <td>111</td>\n",
              "      <td>0.695652</td>\n",
              "      <td>0.685714</td>\n",
              "      <td>0.647887</td>\n",
              "      <td>0.676418</td>\n",
              "      <td>0.020578</td>\n",
              "    </tr>\n",
              "    <tr>\n",
              "      <th>5</th>\n",
              "      <td>0.000728</td>\n",
              "      <td>0.000104</td>\n",
              "      <td>0.000324</td>\n",
              "      <td>0.000006</td>\n",
              "      <td>0.03125</td>\n",
              "      <td>1</td>\n",
              "      <td>{'C': 0.03125, 'gamma': 1}</td>\n",
              "      <td>0.694444</td>\n",
              "      <td>0.342857</td>\n",
              "      <td>0.352941</td>\n",
              "      <td>0.466667</td>\n",
              "      <td>0.164578</td>\n",
              "      <td>127</td>\n",
              "      <td>0.695652</td>\n",
              "      <td>0.357143</td>\n",
              "      <td>0.352113</td>\n",
              "      <td>0.468303</td>\n",
              "      <td>0.160774</td>\n",
              "    </tr>\n",
              "    <tr>\n",
              "      <th>6</th>\n",
              "      <td>0.000677</td>\n",
              "      <td>0.000099</td>\n",
              "      <td>0.000327</td>\n",
              "      <td>0.000009</td>\n",
              "      <td>0.03125</td>\n",
              "      <td>2</td>\n",
              "      <td>{'C': 0.03125, 'gamma': 2}</td>\n",
              "      <td>0.694444</td>\n",
              "      <td>0.342857</td>\n",
              "      <td>0.352941</td>\n",
              "      <td>0.466667</td>\n",
              "      <td>0.164578</td>\n",
              "      <td>127</td>\n",
              "      <td>0.681159</td>\n",
              "      <td>0.357143</td>\n",
              "      <td>0.352113</td>\n",
              "      <td>0.463472</td>\n",
              "      <td>0.153942</td>\n",
              "    </tr>\n",
              "    <tr>\n",
              "      <th>7</th>\n",
              "      <td>0.000780</td>\n",
              "      <td>0.000233</td>\n",
              "      <td>0.000307</td>\n",
              "      <td>0.000011</td>\n",
              "      <td>0.03125</td>\n",
              "      <td>4</td>\n",
              "      <td>{'C': 0.03125, 'gamma': 4}</td>\n",
              "      <td>0.666667</td>\n",
              "      <td>0.342857</td>\n",
              "      <td>0.352941</td>\n",
              "      <td>0.457143</td>\n",
              "      <td>0.151397</td>\n",
              "      <td>130</td>\n",
              "      <td>0.652174</td>\n",
              "      <td>0.357143</td>\n",
              "      <td>0.352113</td>\n",
              "      <td>0.453810</td>\n",
              "      <td>0.140280</td>\n",
              "    </tr>\n",
              "    <tr>\n",
              "      <th>8</th>\n",
              "      <td>0.000595</td>\n",
              "      <td>0.000007</td>\n",
              "      <td>0.000311</td>\n",
              "      <td>0.000009</td>\n",
              "      <td>0.03125</td>\n",
              "      <td>8</td>\n",
              "      <td>{'C': 0.03125, 'gamma': 8}</td>\n",
              "      <td>0.638889</td>\n",
              "      <td>0.342857</td>\n",
              "      <td>0.352941</td>\n",
              "      <td>0.447619</td>\n",
              "      <td>0.138218</td>\n",
              "      <td>131</td>\n",
              "      <td>0.637681</td>\n",
              "      <td>0.357143</td>\n",
              "      <td>0.352113</td>\n",
              "      <td>0.448979</td>\n",
              "      <td>0.133448</td>\n",
              "    </tr>\n",
              "    <tr>\n",
              "      <th>9</th>\n",
              "      <td>0.000608</td>\n",
              "      <td>0.000010</td>\n",
              "      <td>0.000318</td>\n",
              "      <td>0.000009</td>\n",
              "      <td>0.03125</td>\n",
              "      <td>16</td>\n",
              "      <td>{'C': 0.03125, 'gamma': 16}</td>\n",
              "      <td>0.611111</td>\n",
              "      <td>0.342857</td>\n",
              "      <td>0.352941</td>\n",
              "      <td>0.438095</td>\n",
              "      <td>0.125039</td>\n",
              "      <td>133</td>\n",
              "      <td>0.695652</td>\n",
              "      <td>0.357143</td>\n",
              "      <td>0.352113</td>\n",
              "      <td>0.468303</td>\n",
              "      <td>0.160774</td>\n",
              "    </tr>\n",
              "    <tr>\n",
              "      <th>10</th>\n",
              "      <td>0.000649</td>\n",
              "      <td>0.000005</td>\n",
              "      <td>0.000334</td>\n",
              "      <td>0.000009</td>\n",
              "      <td>0.03125</td>\n",
              "      <td>32</td>\n",
              "      <td>{'C': 0.03125, 'gamma': 32}</td>\n",
              "      <td>0.611111</td>\n",
              "      <td>0.342857</td>\n",
              "      <td>0.352941</td>\n",
              "      <td>0.438095</td>\n",
              "      <td>0.125039</td>\n",
              "      <td>133</td>\n",
              "      <td>0.695652</td>\n",
              "      <td>0.357143</td>\n",
              "      <td>0.352113</td>\n",
              "      <td>0.468303</td>\n",
              "      <td>0.160774</td>\n",
              "    </tr>\n",
              "    <tr>\n",
              "      <th>11</th>\n",
              "      <td>0.000864</td>\n",
              "      <td>0.000172</td>\n",
              "      <td>0.000334</td>\n",
              "      <td>0.000001</td>\n",
              "      <td>0.03125</td>\n",
              "      <td>64</td>\n",
              "      <td>{'C': 0.03125, 'gamma': 64}</td>\n",
              "      <td>0.361111</td>\n",
              "      <td>0.342857</td>\n",
              "      <td>0.352941</td>\n",
              "      <td>0.352381</td>\n",
              "      <td>0.007514</td>\n",
              "      <td>141</td>\n",
              "      <td>0.695652</td>\n",
              "      <td>0.357143</td>\n",
              "      <td>0.352113</td>\n",
              "      <td>0.468303</td>\n",
              "      <td>0.160774</td>\n",
              "    </tr>\n",
              "    <tr>\n",
              "      <th>12</th>\n",
              "      <td>0.000690</td>\n",
              "      <td>0.000083</td>\n",
              "      <td>0.000329</td>\n",
              "      <td>0.000033</td>\n",
              "      <td>0.0625</td>\n",
              "      <td>0.03125</td>\n",
              "      <td>{'C': 0.0625, 'gamma': 0.03125}</td>\n",
              "      <td>0.694444</td>\n",
              "      <td>0.685714</td>\n",
              "      <td>0.705882</td>\n",
              "      <td>0.695238</td>\n",
              "      <td>0.008194</td>\n",
              "      <td>105</td>\n",
              "      <td>0.695652</td>\n",
              "      <td>0.700000</td>\n",
              "      <td>0.690141</td>\n",
              "      <td>0.695264</td>\n",
              "      <td>0.004034</td>\n",
              "    </tr>\n",
              "    <tr>\n",
              "      <th>13</th>\n",
              "      <td>0.000798</td>\n",
              "      <td>0.000016</td>\n",
              "      <td>0.000325</td>\n",
              "      <td>0.000009</td>\n",
              "      <td>0.0625</td>\n",
              "      <td>0.0625</td>\n",
              "      <td>{'C': 0.0625, 'gamma': 0.0625}</td>\n",
              "      <td>0.694444</td>\n",
              "      <td>0.685714</td>\n",
              "      <td>0.705882</td>\n",
              "      <td>0.695238</td>\n",
              "      <td>0.008194</td>\n",
              "      <td>105</td>\n",
              "      <td>0.695652</td>\n",
              "      <td>0.700000</td>\n",
              "      <td>0.690141</td>\n",
              "      <td>0.695264</td>\n",
              "      <td>0.004034</td>\n",
              "    </tr>\n",
              "    <tr>\n",
              "      <th>14</th>\n",
              "      <td>0.000693</td>\n",
              "      <td>0.000161</td>\n",
              "      <td>0.000321</td>\n",
              "      <td>0.000014</td>\n",
              "      <td>0.0625</td>\n",
              "      <td>0.125</td>\n",
              "      <td>{'C': 0.0625, 'gamma': 0.125}</td>\n",
              "      <td>0.694444</td>\n",
              "      <td>0.685714</td>\n",
              "      <td>0.764706</td>\n",
              "      <td>0.714286</td>\n",
              "      <td>0.035075</td>\n",
              "      <td>103</td>\n",
              "      <td>0.695652</td>\n",
              "      <td>0.700000</td>\n",
              "      <td>0.760563</td>\n",
              "      <td>0.718739</td>\n",
              "      <td>0.029628</td>\n",
              "    </tr>\n",
              "    <tr>\n",
              "      <th>15</th>\n",
              "      <td>0.000574</td>\n",
              "      <td>0.000009</td>\n",
              "      <td>0.000317</td>\n",
              "      <td>0.000002</td>\n",
              "      <td>0.0625</td>\n",
              "      <td>0.25</td>\n",
              "      <td>{'C': 0.0625, 'gamma': 0.25}</td>\n",
              "      <td>0.722222</td>\n",
              "      <td>0.685714</td>\n",
              "      <td>0.852941</td>\n",
              "      <td>0.752381</td>\n",
              "      <td>0.071189</td>\n",
              "      <td>95</td>\n",
              "      <td>0.768116</td>\n",
              "      <td>0.714286</td>\n",
              "      <td>0.887324</td>\n",
              "      <td>0.789909</td>\n",
              "      <td>0.072304</td>\n",
              "    </tr>\n",
              "    <tr>\n",
              "      <th>16</th>\n",
              "      <td>0.000647</td>\n",
              "      <td>0.000082</td>\n",
              "      <td>0.000303</td>\n",
              "      <td>0.000002</td>\n",
              "      <td>0.0625</td>\n",
              "      <td>0.5</td>\n",
              "      <td>{'C': 0.0625, 'gamma': 0.5}</td>\n",
              "      <td>0.833333</td>\n",
              "      <td>0.800000</td>\n",
              "      <td>0.852941</td>\n",
              "      <td>0.828571</td>\n",
              "      <td>0.021730</td>\n",
              "      <td>92</td>\n",
              "      <td>0.811594</td>\n",
              "      <td>0.742857</td>\n",
              "      <td>0.915493</td>\n",
              "      <td>0.823315</td>\n",
              "      <td>0.070964</td>\n",
              "    </tr>\n",
              "    <tr>\n",
              "      <th>17</th>\n",
              "      <td>0.000580</td>\n",
              "      <td>0.000007</td>\n",
              "      <td>0.000318</td>\n",
              "      <td>0.000011</td>\n",
              "      <td>0.0625</td>\n",
              "      <td>1</td>\n",
              "      <td>{'C': 0.0625, 'gamma': 1}</td>\n",
              "      <td>0.722222</td>\n",
              "      <td>0.685714</td>\n",
              "      <td>0.823529</td>\n",
              "      <td>0.742857</td>\n",
              "      <td>0.057808</td>\n",
              "      <td>96</td>\n",
              "      <td>0.739130</td>\n",
              "      <td>0.700000</td>\n",
              "      <td>0.830986</td>\n",
              "      <td>0.756705</td>\n",
              "      <td>0.054900</td>\n",
              "    </tr>\n",
              "    <tr>\n",
              "      <th>18</th>\n",
              "      <td>0.000591</td>\n",
              "      <td>0.000010</td>\n",
              "      <td>0.000314</td>\n",
              "      <td>0.000010</td>\n",
              "      <td>0.0625</td>\n",
              "      <td>2</td>\n",
              "      <td>{'C': 0.0625, 'gamma': 2}</td>\n",
              "      <td>0.694444</td>\n",
              "      <td>0.600000</td>\n",
              "      <td>0.617647</td>\n",
              "      <td>0.638095</td>\n",
              "      <td>0.041325</td>\n",
              "      <td>113</td>\n",
              "      <td>0.681159</td>\n",
              "      <td>0.685714</td>\n",
              "      <td>0.619718</td>\n",
              "      <td>0.662197</td>\n",
              "      <td>0.030095</td>\n",
              "    </tr>\n",
              "    <tr>\n",
              "      <th>19</th>\n",
              "      <td>0.000726</td>\n",
              "      <td>0.000142</td>\n",
              "      <td>0.000309</td>\n",
              "      <td>0.000010</td>\n",
              "      <td>0.0625</td>\n",
              "      <td>4</td>\n",
              "      <td>{'C': 0.0625, 'gamma': 4}</td>\n",
              "      <td>0.666667</td>\n",
              "      <td>0.400000</td>\n",
              "      <td>0.382353</td>\n",
              "      <td>0.485714</td>\n",
              "      <td>0.130900</td>\n",
              "      <td>126</td>\n",
              "      <td>0.652174</td>\n",
              "      <td>0.442857</td>\n",
              "      <td>0.352113</td>\n",
              "      <td>0.482381</td>\n",
              "      <td>0.125647</td>\n",
              "    </tr>\n",
              "    <tr>\n",
              "      <th>20</th>\n",
              "      <td>0.000709</td>\n",
              "      <td>0.000175</td>\n",
              "      <td>0.000313</td>\n",
              "      <td>0.000012</td>\n",
              "      <td>0.0625</td>\n",
              "      <td>8</td>\n",
              "      <td>{'C': 0.0625, 'gamma': 8}</td>\n",
              "      <td>0.638889</td>\n",
              "      <td>0.342857</td>\n",
              "      <td>0.352941</td>\n",
              "      <td>0.447619</td>\n",
              "      <td>0.138218</td>\n",
              "      <td>131</td>\n",
              "      <td>0.637681</td>\n",
              "      <td>0.357143</td>\n",
              "      <td>0.352113</td>\n",
              "      <td>0.448979</td>\n",
              "      <td>0.133448</td>\n",
              "    </tr>\n",
              "    <tr>\n",
              "      <th>21</th>\n",
              "      <td>0.000862</td>\n",
              "      <td>0.000093</td>\n",
              "      <td>0.000324</td>\n",
              "      <td>0.000012</td>\n",
              "      <td>0.0625</td>\n",
              "      <td>16</td>\n",
              "      <td>{'C': 0.0625, 'gamma': 16}</td>\n",
              "      <td>0.611111</td>\n",
              "      <td>0.342857</td>\n",
              "      <td>0.352941</td>\n",
              "      <td>0.438095</td>\n",
              "      <td>0.125039</td>\n",
              "      <td>133</td>\n",
              "      <td>0.695652</td>\n",
              "      <td>0.357143</td>\n",
              "      <td>0.352113</td>\n",
              "      <td>0.468303</td>\n",
              "      <td>0.160774</td>\n",
              "    </tr>\n",
              "    <tr>\n",
              "      <th>22</th>\n",
              "      <td>0.000734</td>\n",
              "      <td>0.000108</td>\n",
              "      <td>0.000340</td>\n",
              "      <td>0.000010</td>\n",
              "      <td>0.0625</td>\n",
              "      <td>32</td>\n",
              "      <td>{'C': 0.0625, 'gamma': 32}</td>\n",
              "      <td>0.611111</td>\n",
              "      <td>0.342857</td>\n",
              "      <td>0.352941</td>\n",
              "      <td>0.438095</td>\n",
              "      <td>0.125039</td>\n",
              "      <td>133</td>\n",
              "      <td>0.695652</td>\n",
              "      <td>0.357143</td>\n",
              "      <td>0.352113</td>\n",
              "      <td>0.468303</td>\n",
              "      <td>0.160774</td>\n",
              "    </tr>\n",
              "    <tr>\n",
              "      <th>23</th>\n",
              "      <td>0.000856</td>\n",
              "      <td>0.000132</td>\n",
              "      <td>0.000325</td>\n",
              "      <td>0.000010</td>\n",
              "      <td>0.0625</td>\n",
              "      <td>64</td>\n",
              "      <td>{'C': 0.0625, 'gamma': 64}</td>\n",
              "      <td>0.361111</td>\n",
              "      <td>0.342857</td>\n",
              "      <td>0.352941</td>\n",
              "      <td>0.352381</td>\n",
              "      <td>0.007514</td>\n",
              "      <td>141</td>\n",
              "      <td>0.695652</td>\n",
              "      <td>0.357143</td>\n",
              "      <td>0.352113</td>\n",
              "      <td>0.468303</td>\n",
              "      <td>0.160774</td>\n",
              "    </tr>\n",
              "    <tr>\n",
              "      <th>24</th>\n",
              "      <td>0.000568</td>\n",
              "      <td>0.000004</td>\n",
              "      <td>0.000301</td>\n",
              "      <td>0.000008</td>\n",
              "      <td>0.125</td>\n",
              "      <td>0.03125</td>\n",
              "      <td>{'C': 0.125, 'gamma': 0.03125}</td>\n",
              "      <td>0.694444</td>\n",
              "      <td>0.685714</td>\n",
              "      <td>0.705882</td>\n",
              "      <td>0.695238</td>\n",
              "      <td>0.008194</td>\n",
              "      <td>105</td>\n",
              "      <td>0.695652</td>\n",
              "      <td>0.700000</td>\n",
              "      <td>0.690141</td>\n",
              "      <td>0.695264</td>\n",
              "      <td>0.004034</td>\n",
              "    </tr>\n",
              "    <tr>\n",
              "      <th>25</th>\n",
              "      <td>0.000544</td>\n",
              "      <td>0.000003</td>\n",
              "      <td>0.000320</td>\n",
              "      <td>0.000017</td>\n",
              "      <td>0.125</td>\n",
              "      <td>0.0625</td>\n",
              "      <td>{'C': 0.125, 'gamma': 0.0625}</td>\n",
              "      <td>0.722222</td>\n",
              "      <td>0.714286</td>\n",
              "      <td>0.852941</td>\n",
              "      <td>0.761905</td>\n",
              "      <td>0.063082</td>\n",
              "      <td>94</td>\n",
              "      <td>0.753623</td>\n",
              "      <td>0.728571</td>\n",
              "      <td>0.915493</td>\n",
              "      <td>0.799229</td>\n",
              "      <td>0.082845</td>\n",
              "    </tr>\n",
              "    <tr>\n",
              "      <th>26</th>\n",
              "      <td>0.000881</td>\n",
              "      <td>0.000327</td>\n",
              "      <td>0.000400</td>\n",
              "      <td>0.000089</td>\n",
              "      <td>0.125</td>\n",
              "      <td>0.125</td>\n",
              "      <td>{'C': 0.125, 'gamma': 0.125}</td>\n",
              "      <td>0.944444</td>\n",
              "      <td>0.914286</td>\n",
              "      <td>0.911765</td>\n",
              "      <td>0.923810</td>\n",
              "      <td>0.014940</td>\n",
              "      <td>80</td>\n",
              "      <td>0.884058</td>\n",
              "      <td>0.871429</td>\n",
              "      <td>0.943662</td>\n",
              "      <td>0.899716</td>\n",
              "      <td>0.031499</td>\n",
              "    </tr>\n",
              "    <tr>\n",
              "      <th>27</th>\n",
              "      <td>0.000633</td>\n",
              "      <td>0.000126</td>\n",
              "      <td>0.000288</td>\n",
              "      <td>0.000004</td>\n",
              "      <td>0.125</td>\n",
              "      <td>0.25</td>\n",
              "      <td>{'C': 0.125, 'gamma': 0.25}</td>\n",
              "      <td>0.972222</td>\n",
              "      <td>0.914286</td>\n",
              "      <td>0.941176</td>\n",
              "      <td>0.942857</td>\n",
              "      <td>0.023847</td>\n",
              "      <td>50</td>\n",
              "      <td>0.898551</td>\n",
              "      <td>0.928571</td>\n",
              "      <td>0.943662</td>\n",
              "      <td>0.923595</td>\n",
              "      <td>0.018750</td>\n",
              "    </tr>\n",
              "    <tr>\n",
              "      <th>28</th>\n",
              "      <td>0.000657</td>\n",
              "      <td>0.000180</td>\n",
              "      <td>0.000309</td>\n",
              "      <td>0.000019</td>\n",
              "      <td>0.125</td>\n",
              "      <td>0.5</td>\n",
              "      <td>{'C': 0.125, 'gamma': 0.5}</td>\n",
              "      <td>0.972222</td>\n",
              "      <td>0.914286</td>\n",
              "      <td>0.911765</td>\n",
              "      <td>0.933333</td>\n",
              "      <td>0.028109</td>\n",
              "      <td>58</td>\n",
              "      <td>0.942029</td>\n",
              "      <td>0.957143</td>\n",
              "      <td>0.943662</td>\n",
              "      <td>0.947611</td>\n",
              "      <td>0.006773</td>\n",
              "    </tr>\n",
              "    <tr>\n",
              "      <th>29</th>\n",
              "      <td>0.000832</td>\n",
              "      <td>0.000050</td>\n",
              "      <td>0.000370</td>\n",
              "      <td>0.000073</td>\n",
              "      <td>0.125</td>\n",
              "      <td>1</td>\n",
              "      <td>{'C': 0.125, 'gamma': 1}</td>\n",
              "      <td>0.972222</td>\n",
              "      <td>0.914286</td>\n",
              "      <td>0.882353</td>\n",
              "      <td>0.923810</td>\n",
              "      <td>0.037287</td>\n",
              "      <td>80</td>\n",
              "      <td>0.956522</td>\n",
              "      <td>0.957143</td>\n",
              "      <td>0.943662</td>\n",
              "      <td>0.952442</td>\n",
              "      <td>0.006214</td>\n",
              "    </tr>\n",
              "    <tr>\n",
              "      <th>...</th>\n",
              "      <td>...</td>\n",
              "      <td>...</td>\n",
              "      <td>...</td>\n",
              "      <td>...</td>\n",
              "      <td>...</td>\n",
              "      <td>...</td>\n",
              "      <td>...</td>\n",
              "      <td>...</td>\n",
              "      <td>...</td>\n",
              "      <td>...</td>\n",
              "      <td>...</td>\n",
              "      <td>...</td>\n",
              "      <td>...</td>\n",
              "      <td>...</td>\n",
              "      <td>...</td>\n",
              "      <td>...</td>\n",
              "      <td>...</td>\n",
              "      <td>...</td>\n",
              "    </tr>\n",
              "    <tr>\n",
              "      <th>114</th>\n",
              "      <td>0.000777</td>\n",
              "      <td>0.000166</td>\n",
              "      <td>0.000288</td>\n",
              "      <td>0.000011</td>\n",
              "      <td>16</td>\n",
              "      <td>2</td>\n",
              "      <td>{'C': 16, 'gamma': 2}</td>\n",
              "      <td>0.972222</td>\n",
              "      <td>0.971429</td>\n",
              "      <td>0.911765</td>\n",
              "      <td>0.952381</td>\n",
              "      <td>0.028109</td>\n",
              "      <td>37</td>\n",
              "      <td>1.000000</td>\n",
              "      <td>1.000000</td>\n",
              "      <td>1.000000</td>\n",
              "      <td>1.000000</td>\n",
              "      <td>0.000000</td>\n",
              "    </tr>\n",
              "    <tr>\n",
              "      <th>115</th>\n",
              "      <td>0.000909</td>\n",
              "      <td>0.000159</td>\n",
              "      <td>0.000312</td>\n",
              "      <td>0.000001</td>\n",
              "      <td>16</td>\n",
              "      <td>4</td>\n",
              "      <td>{'C': 16, 'gamma': 4}</td>\n",
              "      <td>0.972222</td>\n",
              "      <td>0.914286</td>\n",
              "      <td>0.911765</td>\n",
              "      <td>0.933333</td>\n",
              "      <td>0.028109</td>\n",
              "      <td>58</td>\n",
              "      <td>1.000000</td>\n",
              "      <td>1.000000</td>\n",
              "      <td>1.000000</td>\n",
              "      <td>1.000000</td>\n",
              "      <td>0.000000</td>\n",
              "    </tr>\n",
              "    <tr>\n",
              "      <th>116</th>\n",
              "      <td>0.000727</td>\n",
              "      <td>0.000019</td>\n",
              "      <td>0.000304</td>\n",
              "      <td>0.000006</td>\n",
              "      <td>16</td>\n",
              "      <td>8</td>\n",
              "      <td>{'C': 16, 'gamma': 8}</td>\n",
              "      <td>0.972222</td>\n",
              "      <td>0.914286</td>\n",
              "      <td>0.911765</td>\n",
              "      <td>0.933333</td>\n",
              "      <td>0.028109</td>\n",
              "      <td>58</td>\n",
              "      <td>1.000000</td>\n",
              "      <td>1.000000</td>\n",
              "      <td>1.000000</td>\n",
              "      <td>1.000000</td>\n",
              "      <td>0.000000</td>\n",
              "    </tr>\n",
              "    <tr>\n",
              "      <th>117</th>\n",
              "      <td>0.000888</td>\n",
              "      <td>0.000136</td>\n",
              "      <td>0.000317</td>\n",
              "      <td>0.000003</td>\n",
              "      <td>16</td>\n",
              "      <td>16</td>\n",
              "      <td>{'C': 16, 'gamma': 16}</td>\n",
              "      <td>0.861111</td>\n",
              "      <td>0.800000</td>\n",
              "      <td>0.882353</td>\n",
              "      <td>0.847619</td>\n",
              "      <td>0.034770</td>\n",
              "      <td>85</td>\n",
              "      <td>1.000000</td>\n",
              "      <td>1.000000</td>\n",
              "      <td>1.000000</td>\n",
              "      <td>1.000000</td>\n",
              "      <td>0.000000</td>\n",
              "    </tr>\n",
              "    <tr>\n",
              "      <th>118</th>\n",
              "      <td>0.000973</td>\n",
              "      <td>0.000161</td>\n",
              "      <td>0.000339</td>\n",
              "      <td>0.000004</td>\n",
              "      <td>16</td>\n",
              "      <td>32</td>\n",
              "      <td>{'C': 16, 'gamma': 32}</td>\n",
              "      <td>0.722222</td>\n",
              "      <td>0.657143</td>\n",
              "      <td>0.794118</td>\n",
              "      <td>0.723810</td>\n",
              "      <td>0.055525</td>\n",
              "      <td>97</td>\n",
              "      <td>1.000000</td>\n",
              "      <td>1.000000</td>\n",
              "      <td>1.000000</td>\n",
              "      <td>1.000000</td>\n",
              "      <td>0.000000</td>\n",
              "    </tr>\n",
              "    <tr>\n",
              "      <th>119</th>\n",
              "      <td>0.000885</td>\n",
              "      <td>0.000207</td>\n",
              "      <td>0.000331</td>\n",
              "      <td>0.000020</td>\n",
              "      <td>16</td>\n",
              "      <td>64</td>\n",
              "      <td>{'C': 16, 'gamma': 64}</td>\n",
              "      <td>0.638889</td>\n",
              "      <td>0.514286</td>\n",
              "      <td>0.647059</td>\n",
              "      <td>0.600000</td>\n",
              "      <td>0.060701</td>\n",
              "      <td>116</td>\n",
              "      <td>1.000000</td>\n",
              "      <td>1.000000</td>\n",
              "      <td>1.000000</td>\n",
              "      <td>1.000000</td>\n",
              "      <td>0.000000</td>\n",
              "    </tr>\n",
              "    <tr>\n",
              "      <th>120</th>\n",
              "      <td>0.000507</td>\n",
              "      <td>0.000152</td>\n",
              "      <td>0.000261</td>\n",
              "      <td>0.000006</td>\n",
              "      <td>32</td>\n",
              "      <td>0.03125</td>\n",
              "      <td>{'C': 32, 'gamma': 0.03125}</td>\n",
              "      <td>0.972222</td>\n",
              "      <td>0.971429</td>\n",
              "      <td>0.970588</td>\n",
              "      <td>0.971429</td>\n",
              "      <td>0.000667</td>\n",
              "      <td>4</td>\n",
              "      <td>0.985507</td>\n",
              "      <td>0.985714</td>\n",
              "      <td>0.971831</td>\n",
              "      <td>0.981018</td>\n",
              "      <td>0.006496</td>\n",
              "    </tr>\n",
              "    <tr>\n",
              "      <th>121</th>\n",
              "      <td>0.000444</td>\n",
              "      <td>0.000061</td>\n",
              "      <td>0.000268</td>\n",
              "      <td>0.000006</td>\n",
              "      <td>32</td>\n",
              "      <td>0.0625</td>\n",
              "      <td>{'C': 32, 'gamma': 0.0625}</td>\n",
              "      <td>0.972222</td>\n",
              "      <td>0.971429</td>\n",
              "      <td>0.970588</td>\n",
              "      <td>0.971429</td>\n",
              "      <td>0.000667</td>\n",
              "      <td>4</td>\n",
              "      <td>0.971014</td>\n",
              "      <td>0.985714</td>\n",
              "      <td>0.971831</td>\n",
              "      <td>0.976187</td>\n",
              "      <td>0.006745</td>\n",
              "    </tr>\n",
              "    <tr>\n",
              "      <th>122</th>\n",
              "      <td>0.000434</td>\n",
              "      <td>0.000016</td>\n",
              "      <td>0.000259</td>\n",
              "      <td>0.000006</td>\n",
              "      <td>32</td>\n",
              "      <td>0.125</td>\n",
              "      <td>{'C': 32, 'gamma': 0.125}</td>\n",
              "      <td>0.916667</td>\n",
              "      <td>0.971429</td>\n",
              "      <td>0.911765</td>\n",
              "      <td>0.933333</td>\n",
              "      <td>0.027012</td>\n",
              "      <td>58</td>\n",
              "      <td>0.971014</td>\n",
              "      <td>0.985714</td>\n",
              "      <td>0.971831</td>\n",
              "      <td>0.976187</td>\n",
              "      <td>0.006745</td>\n",
              "    </tr>\n",
              "    <tr>\n",
              "      <th>123</th>\n",
              "      <td>0.000631</td>\n",
              "      <td>0.000160</td>\n",
              "      <td>0.000265</td>\n",
              "      <td>0.000009</td>\n",
              "      <td>32</td>\n",
              "      <td>0.25</td>\n",
              "      <td>{'C': 32, 'gamma': 0.25}</td>\n",
              "      <td>0.916667</td>\n",
              "      <td>0.971429</td>\n",
              "      <td>0.911765</td>\n",
              "      <td>0.933333</td>\n",
              "      <td>0.027012</td>\n",
              "      <td>58</td>\n",
              "      <td>0.985507</td>\n",
              "      <td>0.985714</td>\n",
              "      <td>0.971831</td>\n",
              "      <td>0.981018</td>\n",
              "      <td>0.006496</td>\n",
              "    </tr>\n",
              "    <tr>\n",
              "      <th>124</th>\n",
              "      <td>0.000621</td>\n",
              "      <td>0.000068</td>\n",
              "      <td>0.000258</td>\n",
              "      <td>0.000007</td>\n",
              "      <td>32</td>\n",
              "      <td>0.5</td>\n",
              "      <td>{'C': 32, 'gamma': 0.5}</td>\n",
              "      <td>0.916667</td>\n",
              "      <td>0.971429</td>\n",
              "      <td>0.911765</td>\n",
              "      <td>0.933333</td>\n",
              "      <td>0.027012</td>\n",
              "      <td>58</td>\n",
              "      <td>1.000000</td>\n",
              "      <td>0.985714</td>\n",
              "      <td>0.985915</td>\n",
              "      <td>0.990543</td>\n",
              "      <td>0.006687</td>\n",
              "    </tr>\n",
              "    <tr>\n",
              "      <th>125</th>\n",
              "      <td>0.000815</td>\n",
              "      <td>0.000013</td>\n",
              "      <td>0.000286</td>\n",
              "      <td>0.000002</td>\n",
              "      <td>32</td>\n",
              "      <td>1</td>\n",
              "      <td>{'C': 32, 'gamma': 1}</td>\n",
              "      <td>0.972222</td>\n",
              "      <td>0.971429</td>\n",
              "      <td>0.911765</td>\n",
              "      <td>0.952381</td>\n",
              "      <td>0.028109</td>\n",
              "      <td>37</td>\n",
              "      <td>1.000000</td>\n",
              "      <td>1.000000</td>\n",
              "      <td>0.985915</td>\n",
              "      <td>0.995305</td>\n",
              "      <td>0.006640</td>\n",
              "    </tr>\n",
              "    <tr>\n",
              "      <th>126</th>\n",
              "      <td>0.000749</td>\n",
              "      <td>0.000140</td>\n",
              "      <td>0.000296</td>\n",
              "      <td>0.000007</td>\n",
              "      <td>32</td>\n",
              "      <td>2</td>\n",
              "      <td>{'C': 32, 'gamma': 2}</td>\n",
              "      <td>0.972222</td>\n",
              "      <td>0.971429</td>\n",
              "      <td>0.911765</td>\n",
              "      <td>0.952381</td>\n",
              "      <td>0.028109</td>\n",
              "      <td>37</td>\n",
              "      <td>1.000000</td>\n",
              "      <td>1.000000</td>\n",
              "      <td>1.000000</td>\n",
              "      <td>1.000000</td>\n",
              "      <td>0.000000</td>\n",
              "    </tr>\n",
              "    <tr>\n",
              "      <th>127</th>\n",
              "      <td>0.002203</td>\n",
              "      <td>0.000881</td>\n",
              "      <td>0.000363</td>\n",
              "      <td>0.000076</td>\n",
              "      <td>32</td>\n",
              "      <td>4</td>\n",
              "      <td>{'C': 32, 'gamma': 4}</td>\n",
              "      <td>0.972222</td>\n",
              "      <td>0.914286</td>\n",
              "      <td>0.911765</td>\n",
              "      <td>0.933333</td>\n",
              "      <td>0.028109</td>\n",
              "      <td>58</td>\n",
              "      <td>1.000000</td>\n",
              "      <td>1.000000</td>\n",
              "      <td>1.000000</td>\n",
              "      <td>1.000000</td>\n",
              "      <td>0.000000</td>\n",
              "    </tr>\n",
              "    <tr>\n",
              "      <th>128</th>\n",
              "      <td>0.000852</td>\n",
              "      <td>0.000059</td>\n",
              "      <td>0.000310</td>\n",
              "      <td>0.000010</td>\n",
              "      <td>32</td>\n",
              "      <td>8</td>\n",
              "      <td>{'C': 32, 'gamma': 8}</td>\n",
              "      <td>0.972222</td>\n",
              "      <td>0.914286</td>\n",
              "      <td>0.911765</td>\n",
              "      <td>0.933333</td>\n",
              "      <td>0.028109</td>\n",
              "      <td>58</td>\n",
              "      <td>1.000000</td>\n",
              "      <td>1.000000</td>\n",
              "      <td>1.000000</td>\n",
              "      <td>1.000000</td>\n",
              "      <td>0.000000</td>\n",
              "    </tr>\n",
              "    <tr>\n",
              "      <th>129</th>\n",
              "      <td>0.000915</td>\n",
              "      <td>0.000133</td>\n",
              "      <td>0.000321</td>\n",
              "      <td>0.000022</td>\n",
              "      <td>32</td>\n",
              "      <td>16</td>\n",
              "      <td>{'C': 32, 'gamma': 16}</td>\n",
              "      <td>0.861111</td>\n",
              "      <td>0.800000</td>\n",
              "      <td>0.882353</td>\n",
              "      <td>0.847619</td>\n",
              "      <td>0.034770</td>\n",
              "      <td>85</td>\n",
              "      <td>1.000000</td>\n",
              "      <td>1.000000</td>\n",
              "      <td>1.000000</td>\n",
              "      <td>1.000000</td>\n",
              "      <td>0.000000</td>\n",
              "    </tr>\n",
              "    <tr>\n",
              "      <th>130</th>\n",
              "      <td>0.001000</td>\n",
              "      <td>0.000340</td>\n",
              "      <td>0.000369</td>\n",
              "      <td>0.000016</td>\n",
              "      <td>32</td>\n",
              "      <td>32</td>\n",
              "      <td>{'C': 32, 'gamma': 32}</td>\n",
              "      <td>0.722222</td>\n",
              "      <td>0.657143</td>\n",
              "      <td>0.794118</td>\n",
              "      <td>0.723810</td>\n",
              "      <td>0.055525</td>\n",
              "      <td>97</td>\n",
              "      <td>1.000000</td>\n",
              "      <td>1.000000</td>\n",
              "      <td>1.000000</td>\n",
              "      <td>1.000000</td>\n",
              "      <td>0.000000</td>\n",
              "    </tr>\n",
              "    <tr>\n",
              "      <th>131</th>\n",
              "      <td>0.001022</td>\n",
              "      <td>0.000387</td>\n",
              "      <td>0.000343</td>\n",
              "      <td>0.000013</td>\n",
              "      <td>32</td>\n",
              "      <td>64</td>\n",
              "      <td>{'C': 32, 'gamma': 64}</td>\n",
              "      <td>0.638889</td>\n",
              "      <td>0.514286</td>\n",
              "      <td>0.647059</td>\n",
              "      <td>0.600000</td>\n",
              "      <td>0.060701</td>\n",
              "      <td>116</td>\n",
              "      <td>1.000000</td>\n",
              "      <td>1.000000</td>\n",
              "      <td>1.000000</td>\n",
              "      <td>1.000000</td>\n",
              "      <td>0.000000</td>\n",
              "    </tr>\n",
              "    <tr>\n",
              "      <th>132</th>\n",
              "      <td>0.000409</td>\n",
              "      <td>0.000004</td>\n",
              "      <td>0.000250</td>\n",
              "      <td>0.000002</td>\n",
              "      <td>64</td>\n",
              "      <td>0.03125</td>\n",
              "      <td>{'C': 64, 'gamma': 0.03125}</td>\n",
              "      <td>0.972222</td>\n",
              "      <td>0.971429</td>\n",
              "      <td>0.941176</td>\n",
              "      <td>0.961905</td>\n",
              "      <td>0.014348</td>\n",
              "      <td>22</td>\n",
              "      <td>0.985507</td>\n",
              "      <td>0.985714</td>\n",
              "      <td>0.971831</td>\n",
              "      <td>0.981018</td>\n",
              "      <td>0.006496</td>\n",
              "    </tr>\n",
              "    <tr>\n",
              "      <th>133</th>\n",
              "      <td>0.000533</td>\n",
              "      <td>0.000094</td>\n",
              "      <td>0.000275</td>\n",
              "      <td>0.000005</td>\n",
              "      <td>64</td>\n",
              "      <td>0.0625</td>\n",
              "      <td>{'C': 64, 'gamma': 0.0625}</td>\n",
              "      <td>0.944444</td>\n",
              "      <td>0.971429</td>\n",
              "      <td>0.911765</td>\n",
              "      <td>0.942857</td>\n",
              "      <td>0.024208</td>\n",
              "      <td>50</td>\n",
              "      <td>0.971014</td>\n",
              "      <td>0.985714</td>\n",
              "      <td>0.971831</td>\n",
              "      <td>0.976187</td>\n",
              "      <td>0.006745</td>\n",
              "    </tr>\n",
              "    <tr>\n",
              "      <th>134</th>\n",
              "      <td>0.000483</td>\n",
              "      <td>0.000052</td>\n",
              "      <td>0.000248</td>\n",
              "      <td>0.000008</td>\n",
              "      <td>64</td>\n",
              "      <td>0.125</td>\n",
              "      <td>{'C': 64, 'gamma': 0.125}</td>\n",
              "      <td>0.916667</td>\n",
              "      <td>0.971429</td>\n",
              "      <td>0.911765</td>\n",
              "      <td>0.933333</td>\n",
              "      <td>0.027012</td>\n",
              "      <td>58</td>\n",
              "      <td>0.985507</td>\n",
              "      <td>0.985714</td>\n",
              "      <td>0.971831</td>\n",
              "      <td>0.981018</td>\n",
              "      <td>0.006496</td>\n",
              "    </tr>\n",
              "    <tr>\n",
              "      <th>135</th>\n",
              "      <td>0.000526</td>\n",
              "      <td>0.000152</td>\n",
              "      <td>0.000320</td>\n",
              "      <td>0.000056</td>\n",
              "      <td>64</td>\n",
              "      <td>0.25</td>\n",
              "      <td>{'C': 64, 'gamma': 0.25}</td>\n",
              "      <td>0.916667</td>\n",
              "      <td>0.971429</td>\n",
              "      <td>0.911765</td>\n",
              "      <td>0.933333</td>\n",
              "      <td>0.027012</td>\n",
              "      <td>58</td>\n",
              "      <td>0.985507</td>\n",
              "      <td>0.985714</td>\n",
              "      <td>0.985915</td>\n",
              "      <td>0.985712</td>\n",
              "      <td>0.000167</td>\n",
              "    </tr>\n",
              "    <tr>\n",
              "      <th>136</th>\n",
              "      <td>0.000465</td>\n",
              "      <td>0.000018</td>\n",
              "      <td>0.000259</td>\n",
              "      <td>0.000007</td>\n",
              "      <td>64</td>\n",
              "      <td>0.5</td>\n",
              "      <td>{'C': 64, 'gamma': 0.5}</td>\n",
              "      <td>0.972222</td>\n",
              "      <td>0.942857</td>\n",
              "      <td>0.911765</td>\n",
              "      <td>0.942857</td>\n",
              "      <td>0.024672</td>\n",
              "      <td>50</td>\n",
              "      <td>0.985507</td>\n",
              "      <td>0.985714</td>\n",
              "      <td>0.985915</td>\n",
              "      <td>0.985712</td>\n",
              "      <td>0.000167</td>\n",
              "    </tr>\n",
              "    <tr>\n",
              "      <th>137</th>\n",
              "      <td>0.000611</td>\n",
              "      <td>0.000161</td>\n",
              "      <td>0.000280</td>\n",
              "      <td>0.000009</td>\n",
              "      <td>64</td>\n",
              "      <td>1</td>\n",
              "      <td>{'C': 64, 'gamma': 1}</td>\n",
              "      <td>0.972222</td>\n",
              "      <td>0.914286</td>\n",
              "      <td>0.882353</td>\n",
              "      <td>0.923810</td>\n",
              "      <td>0.037287</td>\n",
              "      <td>80</td>\n",
              "      <td>1.000000</td>\n",
              "      <td>1.000000</td>\n",
              "      <td>1.000000</td>\n",
              "      <td>1.000000</td>\n",
              "      <td>0.000000</td>\n",
              "    </tr>\n",
              "    <tr>\n",
              "      <th>138</th>\n",
              "      <td>0.000634</td>\n",
              "      <td>0.000102</td>\n",
              "      <td>0.000298</td>\n",
              "      <td>0.000008</td>\n",
              "      <td>64</td>\n",
              "      <td>2</td>\n",
              "      <td>{'C': 64, 'gamma': 2}</td>\n",
              "      <td>0.972222</td>\n",
              "      <td>0.971429</td>\n",
              "      <td>0.911765</td>\n",
              "      <td>0.952381</td>\n",
              "      <td>0.028109</td>\n",
              "      <td>37</td>\n",
              "      <td>1.000000</td>\n",
              "      <td>1.000000</td>\n",
              "      <td>1.000000</td>\n",
              "      <td>1.000000</td>\n",
              "      <td>0.000000</td>\n",
              "    </tr>\n",
              "    <tr>\n",
              "      <th>139</th>\n",
              "      <td>0.000811</td>\n",
              "      <td>0.000164</td>\n",
              "      <td>0.000302</td>\n",
              "      <td>0.000010</td>\n",
              "      <td>64</td>\n",
              "      <td>4</td>\n",
              "      <td>{'C': 64, 'gamma': 4}</td>\n",
              "      <td>0.972222</td>\n",
              "      <td>0.914286</td>\n",
              "      <td>0.911765</td>\n",
              "      <td>0.933333</td>\n",
              "      <td>0.028109</td>\n",
              "      <td>58</td>\n",
              "      <td>1.000000</td>\n",
              "      <td>1.000000</td>\n",
              "      <td>1.000000</td>\n",
              "      <td>1.000000</td>\n",
              "      <td>0.000000</td>\n",
              "    </tr>\n",
              "    <tr>\n",
              "      <th>140</th>\n",
              "      <td>0.000937</td>\n",
              "      <td>0.000187</td>\n",
              "      <td>0.000357</td>\n",
              "      <td>0.000047</td>\n",
              "      <td>64</td>\n",
              "      <td>8</td>\n",
              "      <td>{'C': 64, 'gamma': 8}</td>\n",
              "      <td>0.972222</td>\n",
              "      <td>0.914286</td>\n",
              "      <td>0.911765</td>\n",
              "      <td>0.933333</td>\n",
              "      <td>0.028109</td>\n",
              "      <td>58</td>\n",
              "      <td>1.000000</td>\n",
              "      <td>1.000000</td>\n",
              "      <td>1.000000</td>\n",
              "      <td>1.000000</td>\n",
              "      <td>0.000000</td>\n",
              "    </tr>\n",
              "    <tr>\n",
              "      <th>141</th>\n",
              "      <td>0.001005</td>\n",
              "      <td>0.000077</td>\n",
              "      <td>0.000326</td>\n",
              "      <td>0.000017</td>\n",
              "      <td>64</td>\n",
              "      <td>16</td>\n",
              "      <td>{'C': 64, 'gamma': 16}</td>\n",
              "      <td>0.861111</td>\n",
              "      <td>0.800000</td>\n",
              "      <td>0.882353</td>\n",
              "      <td>0.847619</td>\n",
              "      <td>0.034770</td>\n",
              "      <td>85</td>\n",
              "      <td>1.000000</td>\n",
              "      <td>1.000000</td>\n",
              "      <td>1.000000</td>\n",
              "      <td>1.000000</td>\n",
              "      <td>0.000000</td>\n",
              "    </tr>\n",
              "    <tr>\n",
              "      <th>142</th>\n",
              "      <td>0.000978</td>\n",
              "      <td>0.000164</td>\n",
              "      <td>0.000340</td>\n",
              "      <td>0.000007</td>\n",
              "      <td>64</td>\n",
              "      <td>32</td>\n",
              "      <td>{'C': 64, 'gamma': 32}</td>\n",
              "      <td>0.722222</td>\n",
              "      <td>0.657143</td>\n",
              "      <td>0.794118</td>\n",
              "      <td>0.723810</td>\n",
              "      <td>0.055525</td>\n",
              "      <td>97</td>\n",
              "      <td>1.000000</td>\n",
              "      <td>1.000000</td>\n",
              "      <td>1.000000</td>\n",
              "      <td>1.000000</td>\n",
              "      <td>0.000000</td>\n",
              "    </tr>\n",
              "    <tr>\n",
              "      <th>143</th>\n",
              "      <td>0.000735</td>\n",
              "      <td>0.000024</td>\n",
              "      <td>0.000333</td>\n",
              "      <td>0.000008</td>\n",
              "      <td>64</td>\n",
              "      <td>64</td>\n",
              "      <td>{'C': 64, 'gamma': 64}</td>\n",
              "      <td>0.638889</td>\n",
              "      <td>0.514286</td>\n",
              "      <td>0.647059</td>\n",
              "      <td>0.600000</td>\n",
              "      <td>0.060701</td>\n",
              "      <td>116</td>\n",
              "      <td>1.000000</td>\n",
              "      <td>1.000000</td>\n",
              "      <td>1.000000</td>\n",
              "      <td>1.000000</td>\n",
              "      <td>0.000000</td>\n",
              "    </tr>\n",
              "  </tbody>\n",
              "</table>\n",
              "<p>144 rows × 18 columns</p>\n",
              "</div>"
            ],
            "text/plain": [
              "     mean_fit_time  std_fit_time  ...  mean_train_score  std_train_score\n",
              "0         0.001707      0.001333  ...          0.468303         0.160774\n",
              "1         0.000834      0.000166  ...          0.695264         0.004034\n",
              "2         0.000705      0.000161  ...          0.695264         0.004034\n",
              "3         0.000685      0.000096  ...          0.695264         0.004034\n",
              "4         0.000695      0.000171  ...          0.676418         0.020578\n",
              "5         0.000728      0.000104  ...          0.468303         0.160774\n",
              "6         0.000677      0.000099  ...          0.463472         0.153942\n",
              "7         0.000780      0.000233  ...          0.453810         0.140280\n",
              "8         0.000595      0.000007  ...          0.448979         0.133448\n",
              "9         0.000608      0.000010  ...          0.468303         0.160774\n",
              "10        0.000649      0.000005  ...          0.468303         0.160774\n",
              "11        0.000864      0.000172  ...          0.468303         0.160774\n",
              "12        0.000690      0.000083  ...          0.695264         0.004034\n",
              "13        0.000798      0.000016  ...          0.695264         0.004034\n",
              "14        0.000693      0.000161  ...          0.718739         0.029628\n",
              "15        0.000574      0.000009  ...          0.789909         0.072304\n",
              "16        0.000647      0.000082  ...          0.823315         0.070964\n",
              "17        0.000580      0.000007  ...          0.756705         0.054900\n",
              "18        0.000591      0.000010  ...          0.662197         0.030095\n",
              "19        0.000726      0.000142  ...          0.482381         0.125647\n",
              "20        0.000709      0.000175  ...          0.448979         0.133448\n",
              "21        0.000862      0.000093  ...          0.468303         0.160774\n",
              "22        0.000734      0.000108  ...          0.468303         0.160774\n",
              "23        0.000856      0.000132  ...          0.468303         0.160774\n",
              "24        0.000568      0.000004  ...          0.695264         0.004034\n",
              "25        0.000544      0.000003  ...          0.799229         0.082845\n",
              "26        0.000881      0.000327  ...          0.899716         0.031499\n",
              "27        0.000633      0.000126  ...          0.923595         0.018750\n",
              "28        0.000657      0.000180  ...          0.947611         0.006773\n",
              "29        0.000832      0.000050  ...          0.952442         0.006214\n",
              "..             ...           ...  ...               ...              ...\n",
              "114       0.000777      0.000166  ...          1.000000         0.000000\n",
              "115       0.000909      0.000159  ...          1.000000         0.000000\n",
              "116       0.000727      0.000019  ...          1.000000         0.000000\n",
              "117       0.000888      0.000136  ...          1.000000         0.000000\n",
              "118       0.000973      0.000161  ...          1.000000         0.000000\n",
              "119       0.000885      0.000207  ...          1.000000         0.000000\n",
              "120       0.000507      0.000152  ...          0.981018         0.006496\n",
              "121       0.000444      0.000061  ...          0.976187         0.006745\n",
              "122       0.000434      0.000016  ...          0.976187         0.006745\n",
              "123       0.000631      0.000160  ...          0.981018         0.006496\n",
              "124       0.000621      0.000068  ...          0.990543         0.006687\n",
              "125       0.000815      0.000013  ...          0.995305         0.006640\n",
              "126       0.000749      0.000140  ...          1.000000         0.000000\n",
              "127       0.002203      0.000881  ...          1.000000         0.000000\n",
              "128       0.000852      0.000059  ...          1.000000         0.000000\n",
              "129       0.000915      0.000133  ...          1.000000         0.000000\n",
              "130       0.001000      0.000340  ...          1.000000         0.000000\n",
              "131       0.001022      0.000387  ...          1.000000         0.000000\n",
              "132       0.000409      0.000004  ...          0.981018         0.006496\n",
              "133       0.000533      0.000094  ...          0.976187         0.006745\n",
              "134       0.000483      0.000052  ...          0.981018         0.006496\n",
              "135       0.000526      0.000152  ...          0.985712         0.000167\n",
              "136       0.000465      0.000018  ...          0.985712         0.000167\n",
              "137       0.000611      0.000161  ...          1.000000         0.000000\n",
              "138       0.000634      0.000102  ...          1.000000         0.000000\n",
              "139       0.000811      0.000164  ...          1.000000         0.000000\n",
              "140       0.000937      0.000187  ...          1.000000         0.000000\n",
              "141       0.001005      0.000077  ...          1.000000         0.000000\n",
              "142       0.000978      0.000164  ...          1.000000         0.000000\n",
              "143       0.000735      0.000024  ...          1.000000         0.000000\n",
              "\n",
              "[144 rows x 18 columns]"
            ]
          },
          "metadata": {
            "tags": []
          },
          "execution_count": 46
        }
      ]
    },
    {
      "cell_type": "markdown",
      "metadata": {
        "id": "82rDvTJZ4mdp"
      },
      "source": [
        "A continuación, observamos que el número de filas de ese DataFrame corresponde al número de configuraciones de hiperparámetros que se están explorando:"
      ]
    },
    {
      "cell_type": "code",
      "metadata": {
        "id": "H7_kTqMp4mdq",
        "outputId": "e0d9a7c4-b782-4145-8048-2501a1b05dd7",
        "colab": {
          "base_uri": "https://localhost:8080/",
          "height": 50
        }
      },
      "source": [
        "print(len(cv_results))\n",
        "print(len(param_grid['C'])*len(param_grid['gamma']))"
      ],
      "execution_count": null,
      "outputs": [
        {
          "output_type": "stream",
          "text": [
            "144\n",
            "144\n"
          ],
          "name": "stdout"
        }
      ]
    },
    {
      "cell_type": "markdown",
      "metadata": {
        "id": "P1I3xvsv4mdu"
      },
      "source": [
        "Usando la columna `mean_test_score`, extraemos los accuracy promedio de la siguiente forma:"
      ]
    },
    {
      "cell_type": "code",
      "metadata": {
        "id": "wQGNbpnv4mdw"
      },
      "source": [
        "scores = clf.cv_results_['mean_test_score'].reshape(len(param_grid['C']),\n",
        "                                                    len(param_grid['gamma']))"
      ],
      "execution_count": null,
      "outputs": []
    },
    {
      "cell_type": "code",
      "metadata": {
        "id": "ee_mCKYl4md6",
        "outputId": "99257bd3-89ed-43e9-b717-6b772f0aeda7",
        "colab": {
          "base_uri": "https://localhost:8080/",
          "height": 641
        }
      },
      "source": [
        "scores"
      ],
      "execution_count": null,
      "outputs": [
        {
          "output_type": "execute_result",
          "data": {
            "text/plain": [
              "array([[0.46666667, 0.6952381 , 0.6952381 , 0.6952381 , 0.64761905,\n",
              "        0.46666667, 0.46666667, 0.45714286, 0.44761905, 0.43809524,\n",
              "        0.43809524, 0.35238095],\n",
              "       [0.6952381 , 0.6952381 , 0.71428571, 0.75238095, 0.82857143,\n",
              "        0.74285714, 0.63809524, 0.48571429, 0.44761905, 0.43809524,\n",
              "        0.43809524, 0.35238095],\n",
              "       [0.6952381 , 0.76190476, 0.92380952, 0.94285714, 0.93333333,\n",
              "        0.92380952, 0.87619048, 0.64761905, 0.5047619 , 0.43809524,\n",
              "        0.43809524, 0.35238095],\n",
              "       [0.82857143, 0.93333333, 0.95238095, 0.96190476, 0.96190476,\n",
              "        0.96190476, 0.95238095, 0.93333333, 0.62857143, 0.51428571,\n",
              "        0.43809524, 0.35238095],\n",
              "       [0.94285714, 0.96190476, 0.96190476, 0.97142857, 0.96190476,\n",
              "        0.96190476, 0.95238095, 0.95238095, 0.9047619 , 0.62857143,\n",
              "        0.51428571, 0.36190476],\n",
              "       [0.96190476, 0.96190476, 0.97142857, 0.97142857, 0.97142857,\n",
              "        0.97142857, 0.97142857, 0.96190476, 0.93333333, 0.83809524,\n",
              "        0.71428571, 0.57142857],\n",
              "       [0.96190476, 0.97142857, 0.97142857, 0.97142857, 0.97142857,\n",
              "        0.95238095, 0.96190476, 0.93333333, 0.93333333, 0.84761905,\n",
              "        0.72380952, 0.6       ],\n",
              "       [0.97142857, 0.98095238, 0.97142857, 0.97142857, 0.95238095,\n",
              "        0.94285714, 0.95238095, 0.93333333, 0.93333333, 0.84761905,\n",
              "        0.72380952, 0.6       ],\n",
              "       [0.98095238, 0.97142857, 0.97142857, 0.96190476, 0.94285714,\n",
              "        0.94285714, 0.95238095, 0.93333333, 0.93333333, 0.84761905,\n",
              "        0.72380952, 0.6       ],\n",
              "       [0.98095238, 0.97142857, 0.96190476, 0.94285714, 0.93333333,\n",
              "        0.95238095, 0.95238095, 0.93333333, 0.93333333, 0.84761905,\n",
              "        0.72380952, 0.6       ],\n",
              "       [0.97142857, 0.97142857, 0.93333333, 0.93333333, 0.93333333,\n",
              "        0.95238095, 0.95238095, 0.93333333, 0.93333333, 0.84761905,\n",
              "        0.72380952, 0.6       ],\n",
              "       [0.96190476, 0.94285714, 0.93333333, 0.93333333, 0.94285714,\n",
              "        0.92380952, 0.95238095, 0.93333333, 0.93333333, 0.84761905,\n",
              "        0.72380952, 0.6       ]])"
            ]
          },
          "metadata": {
            "tags": []
          },
          "execution_count": 48
        }
      ]
    },
    {
      "cell_type": "markdown",
      "metadata": {
        "id": "5LfRh9PB4meA"
      },
      "source": [
        "A continuación, presentamos una forma de visualizar esta exploración sobre la malla de hiperparámetros"
      ]
    },
    {
      "cell_type": "code",
      "metadata": {
        "id": "_7wDO3zW4meA",
        "outputId": "238d57b6-e5b5-45b2-fc33-947ad0a840b2",
        "colab": {
          "base_uri": "https://localhost:8080/",
          "height": 451
        }
      },
      "source": [
        "plt.figure(figsize=(10, 6))\n",
        "plt.subplots_adjust(left=.2, right=0.95, bottom=0.15, top=0.95)\n",
        "plt.imshow(scores, interpolation='nearest', cmap=plt.cm.hot,\n",
        "           norm=MidpointNormalize(vmin=0.2, midpoint=0.92, vmax=1.))\n",
        "plt.xlabel('gamma')\n",
        "plt.ylabel('C')\n",
        "plt.colorbar()\n",
        "plt.xticks(np.arange(len(param_grid['gamma'])), param_grid['gamma'], rotation=45)\n",
        "plt.yticks(np.arange(len(param_grid['C'])), param_grid['C'])\n",
        "plt.title('Accuracy en validación')\n",
        "plt.show()"
      ],
      "execution_count": null,
      "outputs": [
        {
          "output_type": "display_data",
          "data": {
            "image/png": "[encoded data removed]",
            "text/plain": [
              "<Figure size 720x432 with 2 Axes>"
            ]
          },
          "metadata": {
            "tags": []
          }
        }
      ]
    },
    {
      "cell_type": "markdown",
      "metadata": {
        "id": "I7aLornt4meF"
      },
      "source": [
        "Encontramos que existen tres modelos con el mejor desempeño usando validación cruzada:\n",
        "* $C=4$ y $\\gamma=0.0625$\n",
        "* $C=8$ y $\\gamma=0.03125$\n",
        "* $C=16$ y $\\gamma=0.03125$\n",
        "\n",
        "Para validar esta información, `GridSearchCV` nos ofrece una serie de métodos que nos permite consultar:\n",
        "* La lista de resultados por elemento en la malla de parámetros (`cv_results_`)\n",
        "* La configuración con el mejor desempeño (`best_params_`)\n",
        "* El accuracy promediado sobre todos los pliegues de la mejor configuración (`best_score_`)\n",
        "\n",
        "Para encontrar las mejores configuraciones, ordenamos la tabla de resultados de la siguiente manera:"
      ]
    },
    {
      "cell_type": "code",
      "metadata": {
        "id": "KpjsJLe74meF",
        "outputId": "2e189cbf-d663-4fc0-f694-c37cd092b059",
        "colab": {
          "base_uri": "https://localhost:8080/",
          "height": 202
        }
      },
      "source": [
        "cv_results = cv_results[['param_C', 'param_gamma', 'mean_test_score']]\n",
        "cv_results.sort_values(by='mean_test_score', ascending=False).head()"
      ],
      "execution_count": null,
      "outputs": [
        {
          "output_type": "execute_result",
          "data": {
            "text/html": [
              "<div>\n",
              "<style scoped>\n",
              "    .dataframe tbody tr th:only-of-type {\n",
              "        vertical-align: middle;\n",
              "    }\n",
              "\n",
              "    .dataframe tbody tr th {\n",
              "        vertical-align: top;\n",
              "    }\n",
              "\n",
              "    .dataframe thead th {\n",
              "        text-align: right;\n",
              "    }\n",
              "</style>\n",
              "<table border=\"1\" class=\"dataframe\">\n",
              "  <thead>\n",
              "    <tr style=\"text-align: right;\">\n",
              "      <th></th>\n",
              "      <th>param_C</th>\n",
              "      <th>param_gamma</th>\n",
              "      <th>mean_test_score</th>\n",
              "    </tr>\n",
              "  </thead>\n",
              "  <tbody>\n",
              "    <tr>\n",
              "      <th>96</th>\n",
              "      <td>8</td>\n",
              "      <td>0.03125</td>\n",
              "      <td>0.980952</td>\n",
              "    </tr>\n",
              "    <tr>\n",
              "      <th>85</th>\n",
              "      <td>4</td>\n",
              "      <td>0.0625</td>\n",
              "      <td>0.980952</td>\n",
              "    </tr>\n",
              "    <tr>\n",
              "      <th>108</th>\n",
              "      <td>16</td>\n",
              "      <td>0.03125</td>\n",
              "      <td>0.980952</td>\n",
              "    </tr>\n",
              "    <tr>\n",
              "      <th>97</th>\n",
              "      <td>8</td>\n",
              "      <td>0.0625</td>\n",
              "      <td>0.971429</td>\n",
              "    </tr>\n",
              "    <tr>\n",
              "      <th>87</th>\n",
              "      <td>4</td>\n",
              "      <td>0.25</td>\n",
              "      <td>0.971429</td>\n",
              "    </tr>\n",
              "  </tbody>\n",
              "</table>\n",
              "</div>"
            ],
            "text/plain": [
              "    param_C param_gamma  mean_test_score\n",
              "96        8     0.03125         0.980952\n",
              "85        4      0.0625         0.980952\n",
              "108      16     0.03125         0.980952\n",
              "97        8      0.0625         0.971429\n",
              "87        4        0.25         0.971429"
            ]
          },
          "metadata": {
            "tags": []
          },
          "execution_count": 50
        }
      ]
    },
    {
      "cell_type": "markdown",
      "metadata": {
        "id": "Z35hiFLk4meH"
      },
      "source": [
        "Esta información también se puede consultar usando `.best_params_` y `.best_score_`."
      ]
    },
    {
      "cell_type": "code",
      "metadata": {
        "id": "xFElZaL-4meH",
        "outputId": "b644c001-1485-4b4d-f942-959298966aac",
        "colab": {
          "base_uri": "https://localhost:8080/",
          "height": 34
        }
      },
      "source": [
        "print(clf.best_params_)"
      ],
      "execution_count": null,
      "outputs": [
        {
          "output_type": "stream",
          "text": [
            "{'C': 4, 'gamma': 0.0625}\n"
          ],
          "name": "stdout"
        }
      ]
    },
    {
      "cell_type": "code",
      "metadata": {
        "id": "bxGMvKbr4meP",
        "outputId": "130eecc4-14a0-45b9-8747-7a9bb6022cd4",
        "colab": {
          "base_uri": "https://localhost:8080/",
          "height": 34
        }
      },
      "source": [
        "print(clf.best_score_)"
      ],
      "execution_count": null,
      "outputs": [
        {
          "output_type": "stream",
          "text": [
            "0.9809523809523809\n"
          ],
          "name": "stdout"
        }
      ]
    },
    {
      "cell_type": "markdown",
      "metadata": {
        "id": "bRIvxs8u4meW"
      },
      "source": [
        "Una vez se haya entrenado el modelo usando validación cruzada, `GridSearchCV` escoge automáticamente la mejor configuración y vuelve a entrenar un modelo sobre todo el conjunto de datos de entrenamiento. Por lo tanto se pueden hacer llamados a funciones como `predict()` y `score()`.\n",
        "\n",
        "Para reportar sobre el conjunto de prueba basta con:"
      ]
    },
    {
      "cell_type": "code",
      "metadata": {
        "id": "NFM0OPD_4meW",
        "outputId": "f0625c22-be61-4353-f42d-6c9e540cd8d3",
        "colab": {
          "base_uri": "https://localhost:8080/",
          "height": 34
        }
      },
      "source": [
        "clf.score(X_test, y_test)"
      ],
      "execution_count": null,
      "outputs": [
        {
          "output_type": "execute_result",
          "data": {
            "text/plain": [
              "0.9777777777777777"
            ]
          },
          "metadata": {
            "tags": []
          },
          "execution_count": 95
        }
      ]
    },
    {
      "cell_type": "code",
      "metadata": {
        "id": "nLCITsm_4mfj"
      },
      "source": [],
      "execution_count": null,
      "outputs": []
    }
  ]
}